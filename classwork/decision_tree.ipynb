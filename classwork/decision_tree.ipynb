{
 "cells": [
  {
   "cell_type": "markdown",
   "metadata": {},
   "source": [
    "## Decision Trees\n",
    "### Agenda\n",
    "1. Introduction to Decision Trees\n",
    "2. The Decision Tree Algorithms\n",
    "3. Decision Tree for Classification"
   ]
  },
  {
   "cell_type": "markdown",
   "metadata": {},
   "source": [
    "### 1. Introduction to Decision Trees\n",
    "```\n",
    "* Non-parametric supervised learning method for regression & classification\n",
    "* It's similar to playing 'dumb charades'.\n",
    "* A good algorithm will have less & right questions compared to not-so-good one\n",
    "* The nodes are questions & leafs are prediction\n",
    "```\n"
   ]
  },
  {
   "cell_type": "code",
   "execution_count": 1,
   "metadata": {
    "collapsed": true
   },
   "outputs": [],
   "source": [
    "import pandas as pd\n",
    "import numpy as np\n",
    "import matplotlib.pyplot as plt\n",
    "%matplotlib inline"
   ]
  },
  {
   "cell_type": "markdown",
   "metadata": {},
   "source": [
    "### import data"
   ]
  },
  {
   "cell_type": "code",
   "execution_count": 2,
   "metadata": {
    "collapsed": true
   },
   "outputs": [],
   "source": [
    "play_data = pd.read_csv('./DSVC/datasets/tennis.csv.txt')"
   ]
  },
  {
   "cell_type": "markdown",
   "metadata": {},
   "source": [
    "### show data"
   ]
  },
  {
   "cell_type": "code",
   "execution_count": 3,
   "metadata": {},
   "outputs": [
    {
     "data": {
      "text/html": [
       "<div>\n",
       "<style>\n",
       "    .dataframe thead tr:only-child th {\n",
       "        text-align: right;\n",
       "    }\n",
       "\n",
       "    .dataframe thead th {\n",
       "        text-align: left;\n",
       "    }\n",
       "\n",
       "    .dataframe tbody tr th {\n",
       "        vertical-align: top;\n",
       "    }\n",
       "</style>\n",
       "<table border=\"1\" class=\"dataframe\">\n",
       "  <thead>\n",
       "    <tr style=\"text-align: right;\">\n",
       "      <th></th>\n",
       "      <th>outlook</th>\n",
       "      <th>temp</th>\n",
       "      <th>humidity</th>\n",
       "      <th>windy</th>\n",
       "      <th>play</th>\n",
       "    </tr>\n",
       "  </thead>\n",
       "  <tbody>\n",
       "    <tr>\n",
       "      <th>0</th>\n",
       "      <td>sunny</td>\n",
       "      <td>hot</td>\n",
       "      <td>high</td>\n",
       "      <td>False</td>\n",
       "      <td>no</td>\n",
       "    </tr>\n",
       "    <tr>\n",
       "      <th>1</th>\n",
       "      <td>sunny</td>\n",
       "      <td>hot</td>\n",
       "      <td>high</td>\n",
       "      <td>True</td>\n",
       "      <td>no</td>\n",
       "    </tr>\n",
       "    <tr>\n",
       "      <th>2</th>\n",
       "      <td>overcast</td>\n",
       "      <td>hot</td>\n",
       "      <td>high</td>\n",
       "      <td>False</td>\n",
       "      <td>yes</td>\n",
       "    </tr>\n",
       "    <tr>\n",
       "      <th>3</th>\n",
       "      <td>rainy</td>\n",
       "      <td>mild</td>\n",
       "      <td>high</td>\n",
       "      <td>False</td>\n",
       "      <td>yes</td>\n",
       "    </tr>\n",
       "    <tr>\n",
       "      <th>4</th>\n",
       "      <td>rainy</td>\n",
       "      <td>cool</td>\n",
       "      <td>normal</td>\n",
       "      <td>False</td>\n",
       "      <td>yes</td>\n",
       "    </tr>\n",
       "    <tr>\n",
       "      <th>5</th>\n",
       "      <td>rainy</td>\n",
       "      <td>cool</td>\n",
       "      <td>normal</td>\n",
       "      <td>True</td>\n",
       "      <td>no</td>\n",
       "    </tr>\n",
       "    <tr>\n",
       "      <th>6</th>\n",
       "      <td>overcast</td>\n",
       "      <td>cool</td>\n",
       "      <td>normal</td>\n",
       "      <td>True</td>\n",
       "      <td>yes</td>\n",
       "    </tr>\n",
       "    <tr>\n",
       "      <th>7</th>\n",
       "      <td>sunny</td>\n",
       "      <td>mild</td>\n",
       "      <td>high</td>\n",
       "      <td>False</td>\n",
       "      <td>no</td>\n",
       "    </tr>\n",
       "    <tr>\n",
       "      <th>8</th>\n",
       "      <td>sunny</td>\n",
       "      <td>cool</td>\n",
       "      <td>normal</td>\n",
       "      <td>False</td>\n",
       "      <td>yes</td>\n",
       "    </tr>\n",
       "    <tr>\n",
       "      <th>9</th>\n",
       "      <td>rainy</td>\n",
       "      <td>mild</td>\n",
       "      <td>normal</td>\n",
       "      <td>False</td>\n",
       "      <td>yes</td>\n",
       "    </tr>\n",
       "    <tr>\n",
       "      <th>10</th>\n",
       "      <td>sunny</td>\n",
       "      <td>mild</td>\n",
       "      <td>normal</td>\n",
       "      <td>True</td>\n",
       "      <td>yes</td>\n",
       "    </tr>\n",
       "    <tr>\n",
       "      <th>11</th>\n",
       "      <td>overcast</td>\n",
       "      <td>mild</td>\n",
       "      <td>high</td>\n",
       "      <td>True</td>\n",
       "      <td>yes</td>\n",
       "    </tr>\n",
       "    <tr>\n",
       "      <th>12</th>\n",
       "      <td>overcast</td>\n",
       "      <td>hot</td>\n",
       "      <td>normal</td>\n",
       "      <td>False</td>\n",
       "      <td>yes</td>\n",
       "    </tr>\n",
       "    <tr>\n",
       "      <th>13</th>\n",
       "      <td>rainy</td>\n",
       "      <td>mild</td>\n",
       "      <td>high</td>\n",
       "      <td>True</td>\n",
       "      <td>no</td>\n",
       "    </tr>\n",
       "  </tbody>\n",
       "</table>\n",
       "</div>"
      ],
      "text/plain": [
       "     outlook  temp humidity  windy play\n",
       "0      sunny   hot     high  False   no\n",
       "1      sunny   hot     high   True   no\n",
       "2   overcast   hot     high  False  yes\n",
       "3      rainy  mild     high  False  yes\n",
       "4      rainy  cool   normal  False  yes\n",
       "5      rainy  cool   normal   True   no\n",
       "6   overcast  cool   normal   True  yes\n",
       "7      sunny  mild     high  False   no\n",
       "8      sunny  cool   normal  False  yes\n",
       "9      rainy  mild   normal  False  yes\n",
       "10     sunny  mild   normal   True  yes\n",
       "11  overcast  mild     high   True  yes\n",
       "12  overcast   hot   normal  False  yes\n",
       "13     rainy  mild     high   True   no"
      ]
     },
     "execution_count": 3,
     "metadata": {},
     "output_type": "execute_result"
    }
   ],
   "source": [
    "play_data"
   ]
  },
  {
   "cell_type": "markdown",
   "metadata": {},
   "source": [
    "* A decision tree for above data\n",
    "\n",
    "<img src=\"https://github.com/awantik/machine-learning-slides/blob/master/dt4.PNG?raw=true\" width=\"600px\">"
   ]
  },
  {
   "cell_type": "markdown",
   "metadata": {},
   "source": [
    "### 2. Decision Tree Algorithm\n",
    "\n",
    "* Decision Tree is based on (CART) which is advancement of ID3, developed in 1986 by Ross Quinlan.\n",
    "* ID3 works when feature data & target data both are categorical in nature\n",
    "* C4.5 is an advancement of ID3, it coverts continues features into categorical features. Then, proceeds with ID3\n",
    "* CART is based on C4.5, with slight advancement of 'target can be continues'.\n",
    "* scikit-learn decision trees are based on CART"
   ]
  },
  {
   "cell_type": "markdown",
   "metadata": {},
   "source": [
    "#### Criterion of creating Decision Tree\n",
    "* Entropy - Objective of CART is to maximize information gain in each split\n",
    "* Gini Impurity - If classes are mixed, gini impurity is maximul\n",
    "##### Both the approaches, yields almost same results. We will discuss algorithm using Entropy"
   ]
  },
  {
   "cell_type": "markdown",
   "metadata": {},
   "source": [
    "\n",
    "### Entropy of play\n",
    "* Entropy(play) = – p(Yes) . log2p(Yes) – p(No) . log2p(No)"
   ]
  },
  {
   "cell_type": "code",
   "execution_count": 4,
   "metadata": {},
   "outputs": [
    {
     "data": {
      "text/plain": [
       "yes    9\n",
       "no     5\n",
       "Name: play, dtype: int64"
      ]
     },
     "execution_count": 4,
     "metadata": {},
     "output_type": "execute_result"
    }
   ],
   "source": [
    "play_data.play.value_counts()"
   ]
  },
  {
   "cell_type": "markdown",
   "metadata": {},
   "source": [
    "### Calculation Entropy\n",
    "\n",
    "根据上边公式，你需要完成下面代码块中Entropy_Play计算的代码"
   ]
  },
  {
   "cell_type": "code",
   "execution_count": 5,
   "metadata": {
    "collapsed": true
   },
   "outputs": [],
   "source": [
    "import math\n",
    "play_count=play_data.play.count()\n",
    "play_yes=list(play_data.play).count('yes')\n",
    "play_no=list(play_data.play).count('no')\n",
    "Entropy_Play =-play_yes/play_count*math.log(play_yes/play_count,2)-play_no/play_count*math.log(play_no/play_count,2)\n"
   ]
  },
  {
   "cell_type": "code",
   "execution_count": 6,
   "metadata": {},
   "outputs": [
    {
     "data": {
      "text/plain": [
       "0.94028595867063092"
      ]
     },
     "execution_count": 6,
     "metadata": {},
     "output_type": "execute_result"
    }
   ],
   "source": [
    "Entropy_Play"
   ]
  },
  {
   "cell_type": "markdown",
   "metadata": {},
   "source": [
    "你的Entropy_Play正确结果应该为：0.940285"
   ]
  },
  {
   "cell_type": "markdown",
   "metadata": {},
   "source": [
    "### Information Gain\n",
    "* The information gain is based on the decrease in entropy after a dataset is split on an attribute. \n",
    "* Constructing a decision tree is all about finding attribute that returns the highest information gain (i.e., the most homogeneous branches).\n",
    "* Gain(S, A) = Entropy(S) – ∑ [ p(S|A) . Entropy(S|A) ]\n",
    "* We intend to choose the attribute, splitting by which information gain will be the most\n",
    "* Next step is calculating information gain for all attributes"
   ]
  },
  {
   "cell_type": "markdown",
   "metadata": {},
   "source": [
    "#### Information Gain on splitting by Outlook\n",
    "* Gain(Play, Outlook) = Entropy(Play) – ∑ [ p(Play|Outlook) . Entropy(Play|Outlook) ]\n",
    "* Gain(Play, Outlook) = Entropy(Play) – [ p(Play|Outlook=Sunny) . Entropy(Play|Outlook=Sunny) ] – [ p(Play|Outlook=Overcast) . Entropy(Play|Outlook=Overcast) ]  – [ p(Play|Outlook=Rain) . Entropy(Play|Outlook=Rain) ] "
   ]
  },
  {
   "cell_type": "code",
   "execution_count": 7,
   "metadata": {},
   "outputs": [
    {
     "data": {
      "text/html": [
       "<div>\n",
       "<style>\n",
       "    .dataframe thead tr:only-child th {\n",
       "        text-align: right;\n",
       "    }\n",
       "\n",
       "    .dataframe thead th {\n",
       "        text-align: left;\n",
       "    }\n",
       "\n",
       "    .dataframe tbody tr th {\n",
       "        vertical-align: top;\n",
       "    }\n",
       "</style>\n",
       "<table border=\"1\" class=\"dataframe\">\n",
       "  <thead>\n",
       "    <tr style=\"text-align: right;\">\n",
       "      <th></th>\n",
       "      <th>outlook</th>\n",
       "      <th>temp</th>\n",
       "      <th>humidity</th>\n",
       "      <th>windy</th>\n",
       "      <th>play</th>\n",
       "    </tr>\n",
       "  </thead>\n",
       "  <tbody>\n",
       "    <tr>\n",
       "      <th>0</th>\n",
       "      <td>sunny</td>\n",
       "      <td>hot</td>\n",
       "      <td>high</td>\n",
       "      <td>False</td>\n",
       "      <td>no</td>\n",
       "    </tr>\n",
       "    <tr>\n",
       "      <th>1</th>\n",
       "      <td>sunny</td>\n",
       "      <td>hot</td>\n",
       "      <td>high</td>\n",
       "      <td>True</td>\n",
       "      <td>no</td>\n",
       "    </tr>\n",
       "    <tr>\n",
       "      <th>7</th>\n",
       "      <td>sunny</td>\n",
       "      <td>mild</td>\n",
       "      <td>high</td>\n",
       "      <td>False</td>\n",
       "      <td>no</td>\n",
       "    </tr>\n",
       "    <tr>\n",
       "      <th>8</th>\n",
       "      <td>sunny</td>\n",
       "      <td>cool</td>\n",
       "      <td>normal</td>\n",
       "      <td>False</td>\n",
       "      <td>yes</td>\n",
       "    </tr>\n",
       "    <tr>\n",
       "      <th>10</th>\n",
       "      <td>sunny</td>\n",
       "      <td>mild</td>\n",
       "      <td>normal</td>\n",
       "      <td>True</td>\n",
       "      <td>yes</td>\n",
       "    </tr>\n",
       "  </tbody>\n",
       "</table>\n",
       "</div>"
      ],
      "text/plain": [
       "   outlook  temp humidity  windy play\n",
       "0    sunny   hot     high  False   no\n",
       "1    sunny   hot     high   True   no\n",
       "7    sunny  mild     high  False   no\n",
       "8    sunny  cool   normal  False  yes\n",
       "10   sunny  mild   normal   True  yes"
      ]
     },
     "execution_count": 7,
     "metadata": {},
     "output_type": "execute_result"
    }
   ],
   "source": [
    "play_data[play_data.outlook == 'sunny']"
   ]
  },
  {
   "cell_type": "markdown",
   "metadata": {},
   "source": [
    "### Calculation Information Gain\n",
    "\n",
    "你需要完成下面代码块中Entropy_Play_Outlook_Sunny计算的代码"
   ]
  },
  {
   "cell_type": "code",
   "execution_count": 8,
   "metadata": {
    "collapsed": true
   },
   "outputs": [],
   "source": [
    "sunny_count=play_data[play_data.outlook == 'sunny'].outlook.count()\n",
    "sunny_yes=list(play_data[play_data.outlook == 'sunny'].play).count('yes')\n",
    "sunny_no=list(play_data[play_data.outlook == 'sunny'].play).count('no')\n",
    "Entropy_Play_Outlook_Sunny = -sunny_yes/sunny_count*math.log(sunny_yes/sunny_count,2)-sunny_no/sunny_count*math.log(sunny_no/sunny_count,2)"
   ]
  },
  {
   "cell_type": "code",
   "execution_count": 9,
   "metadata": {},
   "outputs": [
    {
     "data": {
      "text/plain": [
       "0.97095059445466858"
      ]
     },
     "execution_count": 9,
     "metadata": {},
     "output_type": "execute_result"
    }
   ],
   "source": [
    "Entropy_Play_Outlook_Sunny"
   ]
  },
  {
   "cell_type": "markdown",
   "metadata": {},
   "source": [
    "你的Entropy_Play_Outlook_Sunny正确结果应该为：0.970951"
   ]
  },
  {
   "cell_type": "code",
   "execution_count": 10,
   "metadata": {},
   "outputs": [
    {
     "data": {
      "text/html": [
       "<div>\n",
       "<style>\n",
       "    .dataframe thead tr:only-child th {\n",
       "        text-align: right;\n",
       "    }\n",
       "\n",
       "    .dataframe thead th {\n",
       "        text-align: left;\n",
       "    }\n",
       "\n",
       "    .dataframe tbody tr th {\n",
       "        vertical-align: top;\n",
       "    }\n",
       "</style>\n",
       "<table border=\"1\" class=\"dataframe\">\n",
       "  <thead>\n",
       "    <tr style=\"text-align: right;\">\n",
       "      <th></th>\n",
       "      <th>outlook</th>\n",
       "      <th>temp</th>\n",
       "      <th>humidity</th>\n",
       "      <th>windy</th>\n",
       "      <th>play</th>\n",
       "    </tr>\n",
       "  </thead>\n",
       "  <tbody>\n",
       "    <tr>\n",
       "      <th>2</th>\n",
       "      <td>overcast</td>\n",
       "      <td>hot</td>\n",
       "      <td>high</td>\n",
       "      <td>False</td>\n",
       "      <td>yes</td>\n",
       "    </tr>\n",
       "    <tr>\n",
       "      <th>6</th>\n",
       "      <td>overcast</td>\n",
       "      <td>cool</td>\n",
       "      <td>normal</td>\n",
       "      <td>True</td>\n",
       "      <td>yes</td>\n",
       "    </tr>\n",
       "    <tr>\n",
       "      <th>11</th>\n",
       "      <td>overcast</td>\n",
       "      <td>mild</td>\n",
       "      <td>high</td>\n",
       "      <td>True</td>\n",
       "      <td>yes</td>\n",
       "    </tr>\n",
       "    <tr>\n",
       "      <th>12</th>\n",
       "      <td>overcast</td>\n",
       "      <td>hot</td>\n",
       "      <td>normal</td>\n",
       "      <td>False</td>\n",
       "      <td>yes</td>\n",
       "    </tr>\n",
       "  </tbody>\n",
       "</table>\n",
       "</div>"
      ],
      "text/plain": [
       "     outlook  temp humidity  windy play\n",
       "2   overcast   hot     high  False  yes\n",
       "6   overcast  cool   normal   True  yes\n",
       "11  overcast  mild     high   True  yes\n",
       "12  overcast   hot   normal  False  yes"
      ]
     },
     "execution_count": 10,
     "metadata": {},
     "output_type": "execute_result"
    }
   ],
   "source": [
    "play_data[play_data.outlook == 'overcast']"
   ]
  },
  {
   "cell_type": "code",
   "execution_count": 11,
   "metadata": {
    "collapsed": true
   },
   "outputs": [],
   "source": [
    "# Entropy(Play|Outlook=overcast)\n",
    "# Since, it's a homogenous data entropy will be 0\n",
    "overcast_count=play_data[play_data.outlook == 'overcast'].outlook.count()\n",
    "Entropy_Play_Outlook_Overcast=0"
   ]
  },
  {
   "cell_type": "code",
   "execution_count": 12,
   "metadata": {},
   "outputs": [
    {
     "data": {
      "text/html": [
       "<div>\n",
       "<style>\n",
       "    .dataframe thead tr:only-child th {\n",
       "        text-align: right;\n",
       "    }\n",
       "\n",
       "    .dataframe thead th {\n",
       "        text-align: left;\n",
       "    }\n",
       "\n",
       "    .dataframe tbody tr th {\n",
       "        vertical-align: top;\n",
       "    }\n",
       "</style>\n",
       "<table border=\"1\" class=\"dataframe\">\n",
       "  <thead>\n",
       "    <tr style=\"text-align: right;\">\n",
       "      <th></th>\n",
       "      <th>outlook</th>\n",
       "      <th>temp</th>\n",
       "      <th>humidity</th>\n",
       "      <th>windy</th>\n",
       "      <th>play</th>\n",
       "    </tr>\n",
       "  </thead>\n",
       "  <tbody>\n",
       "    <tr>\n",
       "      <th>3</th>\n",
       "      <td>rainy</td>\n",
       "      <td>mild</td>\n",
       "      <td>high</td>\n",
       "      <td>False</td>\n",
       "      <td>yes</td>\n",
       "    </tr>\n",
       "    <tr>\n",
       "      <th>4</th>\n",
       "      <td>rainy</td>\n",
       "      <td>cool</td>\n",
       "      <td>normal</td>\n",
       "      <td>False</td>\n",
       "      <td>yes</td>\n",
       "    </tr>\n",
       "    <tr>\n",
       "      <th>5</th>\n",
       "      <td>rainy</td>\n",
       "      <td>cool</td>\n",
       "      <td>normal</td>\n",
       "      <td>True</td>\n",
       "      <td>no</td>\n",
       "    </tr>\n",
       "    <tr>\n",
       "      <th>9</th>\n",
       "      <td>rainy</td>\n",
       "      <td>mild</td>\n",
       "      <td>normal</td>\n",
       "      <td>False</td>\n",
       "      <td>yes</td>\n",
       "    </tr>\n",
       "    <tr>\n",
       "      <th>13</th>\n",
       "      <td>rainy</td>\n",
       "      <td>mild</td>\n",
       "      <td>high</td>\n",
       "      <td>True</td>\n",
       "      <td>no</td>\n",
       "    </tr>\n",
       "  </tbody>\n",
       "</table>\n",
       "</div>"
      ],
      "text/plain": [
       "   outlook  temp humidity  windy play\n",
       "3    rainy  mild     high  False  yes\n",
       "4    rainy  cool   normal  False  yes\n",
       "5    rainy  cool   normal   True   no\n",
       "9    rainy  mild   normal  False  yes\n",
       "13   rainy  mild     high   True   no"
      ]
     },
     "execution_count": 12,
     "metadata": {},
     "output_type": "execute_result"
    }
   ],
   "source": [
    "play_data[play_data.outlook == 'rainy']"
   ]
  },
  {
   "cell_type": "code",
   "execution_count": 13,
   "metadata": {
    "collapsed": true
   },
   "outputs": [],
   "source": [
    "# Entropy(Play|Outlook=rainy)\n",
    "rainy_count=play_data[play_data.outlook == 'rainy'].outlook.count()\n",
    "rainy_yes=list(play_data[play_data.outlook == 'rainy'].play).count('yes')\n",
    "rainy_no=list(play_data[play_data.outlook == 'rainy'].play).count('no')\n",
    "Entropy_Play_Outlook_Rain =  -rainy_yes/rainy_count*math.log(rainy_yes/rainy_count,2)-rainy_no/rainy_count*math.log(rainy_no/rainy_count,2)"
   ]
  },
  {
   "cell_type": "code",
   "execution_count": 14,
   "metadata": {},
   "outputs": [
    {
     "data": {
      "text/plain": [
       "0.97095059445466858"
      ]
     },
     "execution_count": 14,
     "metadata": {},
     "output_type": "execute_result"
    }
   ],
   "source": [
    "Entropy_Play_Outlook_Rain"
   ]
  },
  {
   "cell_type": "markdown",
   "metadata": {},
   "source": [
    "你的Entropy_Play_Outlook_Rain正确结果应该为：0.970951"
   ]
  },
  {
   "cell_type": "markdown",
   "metadata": {},
   "source": [
    "#### Gain on splitting by attribute outlook\n",
    "\n",
    "根据以下公式计算Gain"
   ]
  },
  {
   "cell_type": "code",
   "execution_count": 15,
   "metadata": {},
   "outputs": [
    {
     "data": {
      "text/plain": [
       "0.24674981977443911"
      ]
     },
     "execution_count": 15,
     "metadata": {},
     "output_type": "execute_result"
    }
   ],
   "source": [
    "#Gain(Play, Outlook) = Entropy(Play) – [ p(Play|Outlook=Sunny) . Entropy(Play|Outlook=Sunny) ] – \n",
    "#[ p(Play|Outlook=Overcast) . Entropy(Play|Outlook=Overcast) ] – [ p(Play|Outlook=Rain) . Entropy(Play|Outlook=Rain) ]\n",
    "Gain_Play_Outlook=Entropy_Play -sunny_count/play_count*Entropy_Play_Outlook_Sunny-overcast_count/play_count*Entropy_Play_Outlook_Overcast-rainy_count/play_count*Entropy_Play_Outlook_Rain\n",
    "Gain_Play_Outlook"
   ]
  },
  {
   "cell_type": "markdown",
   "metadata": {},
   "source": [
    "你的Gain(Play,Outlook)正确结果应该为:0.246750"
   ]
  },
  {
   "cell_type": "markdown",
   "metadata": {},
   "source": [
    "#### Other gains\n",
    "* Gain(Play, Temperature) - 0.029\n",
    "* Gain(Play, Humidity) - 0.151\n",
    "* Gain(Play, Wind) - 0.048\n",
    "\n",
    "#### Conclusion - Outlook is winner & thus becomes root of the tree\n",
    "<img src=\"https://i1.wp.com/sefiks.com/wp-content/uploads/2017/11/tree-v1.png?zoom=1.25&resize=728%2C252&ssl=1\" width=\"600px\">"
   ]
  },
  {
   "cell_type": "markdown",
   "metadata": {},
   "source": [
    "### Time to find the next splitting criteria"
   ]
  },
  {
   "cell_type": "code",
   "execution_count": 16,
   "metadata": {},
   "outputs": [
    {
     "data": {
      "text/html": [
       "<div>\n",
       "<style>\n",
       "    .dataframe thead tr:only-child th {\n",
       "        text-align: right;\n",
       "    }\n",
       "\n",
       "    .dataframe thead th {\n",
       "        text-align: left;\n",
       "    }\n",
       "\n",
       "    .dataframe tbody tr th {\n",
       "        vertical-align: top;\n",
       "    }\n",
       "</style>\n",
       "<table border=\"1\" class=\"dataframe\">\n",
       "  <thead>\n",
       "    <tr style=\"text-align: right;\">\n",
       "      <th></th>\n",
       "      <th>outlook</th>\n",
       "      <th>temp</th>\n",
       "      <th>humidity</th>\n",
       "      <th>windy</th>\n",
       "      <th>play</th>\n",
       "    </tr>\n",
       "  </thead>\n",
       "  <tbody>\n",
       "    <tr>\n",
       "      <th>2</th>\n",
       "      <td>overcast</td>\n",
       "      <td>hot</td>\n",
       "      <td>high</td>\n",
       "      <td>False</td>\n",
       "      <td>yes</td>\n",
       "    </tr>\n",
       "    <tr>\n",
       "      <th>6</th>\n",
       "      <td>overcast</td>\n",
       "      <td>cool</td>\n",
       "      <td>normal</td>\n",
       "      <td>True</td>\n",
       "      <td>yes</td>\n",
       "    </tr>\n",
       "    <tr>\n",
       "      <th>11</th>\n",
       "      <td>overcast</td>\n",
       "      <td>mild</td>\n",
       "      <td>high</td>\n",
       "      <td>True</td>\n",
       "      <td>yes</td>\n",
       "    </tr>\n",
       "    <tr>\n",
       "      <th>12</th>\n",
       "      <td>overcast</td>\n",
       "      <td>hot</td>\n",
       "      <td>normal</td>\n",
       "      <td>False</td>\n",
       "      <td>yes</td>\n",
       "    </tr>\n",
       "  </tbody>\n",
       "</table>\n",
       "</div>"
      ],
      "text/plain": [
       "     outlook  temp humidity  windy play\n",
       "2   overcast   hot     high  False  yes\n",
       "6   overcast  cool   normal   True  yes\n",
       "11  overcast  mild     high   True  yes\n",
       "12  overcast   hot   normal  False  yes"
      ]
     },
     "execution_count": 16,
     "metadata": {},
     "output_type": "execute_result"
    }
   ],
   "source": [
    "play_data[play_data.outlook == 'overcast']"
   ]
  },
  {
   "cell_type": "markdown",
   "metadata": {},
   "source": [
    "##### Conclusion - If outlook is overcast, play is true\n",
    "\n",
    "### Let's find the next splitting feature"
   ]
  },
  {
   "cell_type": "code",
   "execution_count": 17,
   "metadata": {},
   "outputs": [
    {
     "data": {
      "text/html": [
       "<div>\n",
       "<style>\n",
       "    .dataframe thead tr:only-child th {\n",
       "        text-align: right;\n",
       "    }\n",
       "\n",
       "    .dataframe thead th {\n",
       "        text-align: left;\n",
       "    }\n",
       "\n",
       "    .dataframe tbody tr th {\n",
       "        vertical-align: top;\n",
       "    }\n",
       "</style>\n",
       "<table border=\"1\" class=\"dataframe\">\n",
       "  <thead>\n",
       "    <tr style=\"text-align: right;\">\n",
       "      <th></th>\n",
       "      <th>outlook</th>\n",
       "      <th>temp</th>\n",
       "      <th>humidity</th>\n",
       "      <th>windy</th>\n",
       "      <th>play</th>\n",
       "    </tr>\n",
       "  </thead>\n",
       "  <tbody>\n",
       "    <tr>\n",
       "      <th>0</th>\n",
       "      <td>sunny</td>\n",
       "      <td>hot</td>\n",
       "      <td>high</td>\n",
       "      <td>False</td>\n",
       "      <td>no</td>\n",
       "    </tr>\n",
       "    <tr>\n",
       "      <th>1</th>\n",
       "      <td>sunny</td>\n",
       "      <td>hot</td>\n",
       "      <td>high</td>\n",
       "      <td>True</td>\n",
       "      <td>no</td>\n",
       "    </tr>\n",
       "    <tr>\n",
       "      <th>7</th>\n",
       "      <td>sunny</td>\n",
       "      <td>mild</td>\n",
       "      <td>high</td>\n",
       "      <td>False</td>\n",
       "      <td>no</td>\n",
       "    </tr>\n",
       "    <tr>\n",
       "      <th>8</th>\n",
       "      <td>sunny</td>\n",
       "      <td>cool</td>\n",
       "      <td>normal</td>\n",
       "      <td>False</td>\n",
       "      <td>yes</td>\n",
       "    </tr>\n",
       "    <tr>\n",
       "      <th>10</th>\n",
       "      <td>sunny</td>\n",
       "      <td>mild</td>\n",
       "      <td>normal</td>\n",
       "      <td>True</td>\n",
       "      <td>yes</td>\n",
       "    </tr>\n",
       "  </tbody>\n",
       "</table>\n",
       "</div>"
      ],
      "text/plain": [
       "   outlook  temp humidity  windy play\n",
       "0    sunny   hot     high  False   no\n",
       "1    sunny   hot     high   True   no\n",
       "7    sunny  mild     high  False   no\n",
       "8    sunny  cool   normal  False  yes\n",
       "10   sunny  mild   normal   True  yes"
      ]
     },
     "execution_count": 17,
     "metadata": {},
     "output_type": "execute_result"
    }
   ],
   "source": [
    "sunny=play_data[play_data.outlook == 'sunny']\n",
    "sunny"
   ]
  },
  {
   "cell_type": "markdown",
   "metadata": {},
   "source": [
    "你需要在下面计算Entropy_Play_Outlook_Sunny"
   ]
  },
  {
   "cell_type": "code",
   "execution_count": 18,
   "metadata": {
    "collapsed": true
   },
   "outputs": [],
   "source": [
    "# Entropy(Play_Sunny|)\n",
    "#Entropy_Play_Outlook_Sunny = None"
   ]
  },
  {
   "cell_type": "code",
   "execution_count": 19,
   "metadata": {},
   "outputs": [
    {
     "data": {
      "text/plain": [
       "0.97095059445466858"
      ]
     },
     "execution_count": 19,
     "metadata": {},
     "output_type": "execute_result"
    }
   ],
   "source": [
    "Entropy_Play_Outlook_Sunny"
   ]
  },
  {
   "cell_type": "markdown",
   "metadata": {},
   "source": [
    "你的Entropy_Play_Outlook_Sunny正确结果应该为:0.970951"
   ]
  },
  {
   "cell_type": "markdown",
   "metadata": {},
   "source": [
    "### Information Gain for humidity"
   ]
  },
  {
   "cell_type": "markdown",
   "metadata": {},
   "source": [
    "计算湿度信息增益"
   ]
  },
  {
   "cell_type": "code",
   "execution_count": 20,
   "metadata": {},
   "outputs": [
    {
     "data": {
      "text/html": [
       "<div>\n",
       "<style>\n",
       "    .dataframe thead tr:only-child th {\n",
       "        text-align: right;\n",
       "    }\n",
       "\n",
       "    .dataframe thead th {\n",
       "        text-align: left;\n",
       "    }\n",
       "\n",
       "    .dataframe tbody tr th {\n",
       "        vertical-align: top;\n",
       "    }\n",
       "</style>\n",
       "<table border=\"1\" class=\"dataframe\">\n",
       "  <thead>\n",
       "    <tr style=\"text-align: right;\">\n",
       "      <th></th>\n",
       "      <th>outlook</th>\n",
       "      <th>temp</th>\n",
       "      <th>humidity</th>\n",
       "      <th>windy</th>\n",
       "      <th>play</th>\n",
       "    </tr>\n",
       "  </thead>\n",
       "  <tbody>\n",
       "    <tr>\n",
       "      <th>0</th>\n",
       "      <td>sunny</td>\n",
       "      <td>hot</td>\n",
       "      <td>high</td>\n",
       "      <td>False</td>\n",
       "      <td>no</td>\n",
       "    </tr>\n",
       "    <tr>\n",
       "      <th>1</th>\n",
       "      <td>sunny</td>\n",
       "      <td>hot</td>\n",
       "      <td>high</td>\n",
       "      <td>True</td>\n",
       "      <td>no</td>\n",
       "    </tr>\n",
       "    <tr>\n",
       "      <th>7</th>\n",
       "      <td>sunny</td>\n",
       "      <td>mild</td>\n",
       "      <td>high</td>\n",
       "      <td>False</td>\n",
       "      <td>no</td>\n",
       "    </tr>\n",
       "  </tbody>\n",
       "</table>\n",
       "</div>"
      ],
      "text/plain": [
       "  outlook  temp humidity  windy play\n",
       "0   sunny   hot     high  False   no\n",
       "1   sunny   hot     high   True   no\n",
       "7   sunny  mild     high  False   no"
      ]
     },
     "execution_count": 20,
     "metadata": {},
     "output_type": "execute_result"
    }
   ],
   "source": [
    "sunny[sunny. humidity=='high']"
   ]
  },
  {
   "cell_type": "code",
   "execution_count": 21,
   "metadata": {},
   "outputs": [
    {
     "name": "stdout",
     "output_type": "stream",
     "text": [
      "0.0\n"
     ]
    }
   ],
   "source": [
    "#Entropy for attribute high = 0, also entropy for attribute normal = 0 \n",
    "high_count=sunny[sunny. humidity=='high'].humidity.count()\n",
    "high_yes=list(sunny[sunny. humidity=='high'].play).count('yes')\n",
    "high_no=list(sunny[sunny. humidity=='high'].play).count('no')\n",
    "if high_yes!=0 and high_no!=0:\n",
    "     Entropy_Play_Humidity_High =-high_no/high_count*math.log(high_no/high_count,2)-high_yes/high_count*math.log(high_yes/high_count,2)\n",
    "if high_yes==0:\n",
    "    Entropy_Play_Humidity_High=0-high_no/high_count*math.log(high_no/high_count,2) \n",
    "if high_no==0 :\n",
    "    Entropy_Play_Humidity_High=0-high_yes/high_count*math.log(high_yes/high_count,2)\n",
    "if high_yes==0 and high_no==0:\n",
    "    Entropy_Play_Humidity_High=0\n",
    "    \n",
    "print(Entropy_Play_Humidity_High)"
   ]
  },
  {
   "cell_type": "code",
   "execution_count": 22,
   "metadata": {},
   "outputs": [
    {
     "data": {
      "text/html": [
       "<div>\n",
       "<style>\n",
       "    .dataframe thead tr:only-child th {\n",
       "        text-align: right;\n",
       "    }\n",
       "\n",
       "    .dataframe thead th {\n",
       "        text-align: left;\n",
       "    }\n",
       "\n",
       "    .dataframe tbody tr th {\n",
       "        vertical-align: top;\n",
       "    }\n",
       "</style>\n",
       "<table border=\"1\" class=\"dataframe\">\n",
       "  <thead>\n",
       "    <tr style=\"text-align: right;\">\n",
       "      <th></th>\n",
       "      <th>outlook</th>\n",
       "      <th>temp</th>\n",
       "      <th>humidity</th>\n",
       "      <th>windy</th>\n",
       "      <th>play</th>\n",
       "    </tr>\n",
       "  </thead>\n",
       "  <tbody>\n",
       "    <tr>\n",
       "      <th>8</th>\n",
       "      <td>sunny</td>\n",
       "      <td>cool</td>\n",
       "      <td>normal</td>\n",
       "      <td>False</td>\n",
       "      <td>yes</td>\n",
       "    </tr>\n",
       "    <tr>\n",
       "      <th>10</th>\n",
       "      <td>sunny</td>\n",
       "      <td>mild</td>\n",
       "      <td>normal</td>\n",
       "      <td>True</td>\n",
       "      <td>yes</td>\n",
       "    </tr>\n",
       "  </tbody>\n",
       "</table>\n",
       "</div>"
      ],
      "text/plain": [
       "   outlook  temp humidity  windy play\n",
       "8    sunny  cool   normal  False  yes\n",
       "10   sunny  mild   normal   True  yes"
      ]
     },
     "execution_count": 22,
     "metadata": {},
     "output_type": "execute_result"
    }
   ],
   "source": [
    "sunny[sunny. humidity=='normal']"
   ]
  },
  {
   "cell_type": "code",
   "execution_count": 23,
   "metadata": {
    "collapsed": true
   },
   "outputs": [],
   "source": [
    "normal_count=sunny[sunny. humidity=='normal'].humidity.count()\n",
    "normal_yes=list(sunny[sunny. humidity=='normal'].play).count('yes')\n",
    "normal_no=list(sunny[sunny. humidity=='normal'].play).count('no')\n",
    "if normal_yes!=0 and normal_no!=0:\n",
    "    Entropy_Play_Humidity_Normal = -normal_yes/normal_count*math.log(normal_yes/normal_count,2)-normal_no/normal_count*math.log(normal_no/normal_count,2)\n",
    "if normal_yes==0:\n",
    "    Entropy_Play_Humidity_Normal=0-normal_no/normal_count*math.log(normal_no/normal_count,2)\n",
    "if normal_no==0 :\n",
    "    Entropy_Play_Humidity_Normal=0-normal_yes/normal_count*math.log(normal_yes/normal_count,2)\n",
    "if normal_yes==0 and normal_no==0:\n",
    "    Entropy_Play_Humidity_Normal=0\n",
    "#Gain_Play_Humidity==Entropy_Play -high_count/play_count*Entropy_Play_Humidity_High-normal_count/play_count*Entropy_Play_Humidity_Normal"
   ]
  },
  {
   "cell_type": "code",
   "execution_count": 24,
   "metadata": {},
   "outputs": [
    {
     "data": {
      "text/plain": [
       "0.97095059445466858"
      ]
     },
     "execution_count": 24,
     "metadata": {},
     "output_type": "execute_result"
    }
   ],
   "source": [
    "Gain=Entropy_Play_Outlook_Sunny -high_count/sunny_count*Entropy_Play_Humidity_High-normal_count/sunny_count*Entropy_Play_Humidity_Normal\n",
    "Gain"
   ]
  },
  {
   "cell_type": "markdown",
   "metadata": {},
   "source": [
    "你的Information Gain for humidity正确结果应该为:0.970951"
   ]
  },
  {
   "cell_type": "markdown",
   "metadata": {},
   "source": [
    "### Information Gain for windy\n",
    "* False -> 3 -> [1+ 2-]\n",
    "* True -> 2 -> [1+ 1-]"
   ]
  },
  {
   "cell_type": "markdown",
   "metadata": {},
   "source": [
    "计算Entropy_Wind_False"
   ]
  },
  {
   "cell_type": "code",
   "execution_count": 25,
   "metadata": {},
   "outputs": [
    {
     "data": {
      "text/html": [
       "<div>\n",
       "<style>\n",
       "    .dataframe thead tr:only-child th {\n",
       "        text-align: right;\n",
       "    }\n",
       "\n",
       "    .dataframe thead th {\n",
       "        text-align: left;\n",
       "    }\n",
       "\n",
       "    .dataframe tbody tr th {\n",
       "        vertical-align: top;\n",
       "    }\n",
       "</style>\n",
       "<table border=\"1\" class=\"dataframe\">\n",
       "  <thead>\n",
       "    <tr style=\"text-align: right;\">\n",
       "      <th></th>\n",
       "      <th>outlook</th>\n",
       "      <th>temp</th>\n",
       "      <th>humidity</th>\n",
       "      <th>windy</th>\n",
       "      <th>play</th>\n",
       "    </tr>\n",
       "  </thead>\n",
       "  <tbody>\n",
       "    <tr>\n",
       "      <th>0</th>\n",
       "      <td>sunny</td>\n",
       "      <td>hot</td>\n",
       "      <td>high</td>\n",
       "      <td>False</td>\n",
       "      <td>no</td>\n",
       "    </tr>\n",
       "    <tr>\n",
       "      <th>7</th>\n",
       "      <td>sunny</td>\n",
       "      <td>mild</td>\n",
       "      <td>high</td>\n",
       "      <td>False</td>\n",
       "      <td>no</td>\n",
       "    </tr>\n",
       "    <tr>\n",
       "      <th>8</th>\n",
       "      <td>sunny</td>\n",
       "      <td>cool</td>\n",
       "      <td>normal</td>\n",
       "      <td>False</td>\n",
       "      <td>yes</td>\n",
       "    </tr>\n",
       "  </tbody>\n",
       "</table>\n",
       "</div>"
      ],
      "text/plain": [
       "  outlook  temp humidity  windy play\n",
       "0   sunny   hot     high  False   no\n",
       "7   sunny  mild     high  False   no\n",
       "8   sunny  cool   normal  False  yes"
      ]
     },
     "execution_count": 25,
     "metadata": {},
     "output_type": "execute_result"
    }
   ],
   "source": [
    "sunny[sunny.windy == False]"
   ]
  },
  {
   "cell_type": "code",
   "execution_count": 26,
   "metadata": {},
   "outputs": [
    {
     "name": "stdout",
     "output_type": "stream",
     "text": [
      "1 2\n"
     ]
    }
   ],
   "source": [
    "false_count=sunny[sunny.windy == False].windy.count()\n",
    "false_yes=list(sunny[sunny.windy == False].play).count('yes')\n",
    "false_no=list(sunny[sunny.windy == False].play).count('no')\n",
    "print(false_yes,false_no)\n",
    "if false_yes!=0 and false_no!=0:\n",
    "    Entropy_Wind_False  = -false_yes/false_count*math.log(false_yes/false_count,2)-false_no/false_count*math.log(false_no/false_count,2)\n",
    "if false_yes==0:\n",
    "    Entropy_Wind_False  = 0-false_no/false_count*math.log(false_no/false_count,2)\n",
    "if false_no==0 :\n",
    "    Entropy_Wind_False  = 0-false_yes/false_count*math.log(false_yes/false_count,2)\n",
    "if false_yes==0 and false_no==0:\n",
    "    Entropy_Wind_False  = 0"
   ]
  },
  {
   "cell_type": "code",
   "execution_count": 27,
   "metadata": {},
   "outputs": [
    {
     "data": {
      "text/plain": [
       "0.91829583405448956"
      ]
     },
     "execution_count": 27,
     "metadata": {},
     "output_type": "execute_result"
    }
   ],
   "source": [
    "Entropy_Wind_False"
   ]
  },
  {
   "cell_type": "markdown",
   "metadata": {},
   "source": [
    "你的Entropy_Wind_False正确结果应该为:0.918296\n",
    "\n",
    "计算风信息增益"
   ]
  },
  {
   "cell_type": "code",
   "execution_count": 28,
   "metadata": {},
   "outputs": [
    {
     "data": {
      "text/html": [
       "<div>\n",
       "<style>\n",
       "    .dataframe thead tr:only-child th {\n",
       "        text-align: right;\n",
       "    }\n",
       "\n",
       "    .dataframe thead th {\n",
       "        text-align: left;\n",
       "    }\n",
       "\n",
       "    .dataframe tbody tr th {\n",
       "        vertical-align: top;\n",
       "    }\n",
       "</style>\n",
       "<table border=\"1\" class=\"dataframe\">\n",
       "  <thead>\n",
       "    <tr style=\"text-align: right;\">\n",
       "      <th></th>\n",
       "      <th>outlook</th>\n",
       "      <th>temp</th>\n",
       "      <th>humidity</th>\n",
       "      <th>windy</th>\n",
       "      <th>play</th>\n",
       "    </tr>\n",
       "  </thead>\n",
       "  <tbody>\n",
       "    <tr>\n",
       "      <th>1</th>\n",
       "      <td>sunny</td>\n",
       "      <td>hot</td>\n",
       "      <td>high</td>\n",
       "      <td>True</td>\n",
       "      <td>no</td>\n",
       "    </tr>\n",
       "    <tr>\n",
       "      <th>10</th>\n",
       "      <td>sunny</td>\n",
       "      <td>mild</td>\n",
       "      <td>normal</td>\n",
       "      <td>True</td>\n",
       "      <td>yes</td>\n",
       "    </tr>\n",
       "  </tbody>\n",
       "</table>\n",
       "</div>"
      ],
      "text/plain": [
       "   outlook  temp humidity  windy play\n",
       "1    sunny   hot     high   True   no\n",
       "10   sunny  mild   normal   True  yes"
      ]
     },
     "execution_count": 28,
     "metadata": {},
     "output_type": "execute_result"
    }
   ],
   "source": [
    "sunny[sunny.windy == True]"
   ]
  },
  {
   "cell_type": "code",
   "execution_count": 29,
   "metadata": {},
   "outputs": [
    {
     "name": "stdout",
     "output_type": "stream",
     "text": [
      "1 1\n"
     ]
    },
    {
     "data": {
      "text/plain": [
       "1.0"
      ]
     },
     "execution_count": 29,
     "metadata": {},
     "output_type": "execute_result"
    }
   ],
   "source": [
    "true_count=sunny[sunny.windy == True].windy.count()\n",
    "true_yes=list(sunny[sunny.windy == True].play).count('yes')\n",
    "true_no=list(sunny[sunny.windy == True].play).count('no')\n",
    "print(true_yes,true_no)\n",
    "if true_yes!=0 and true_no!=0:\n",
    "    Entropy_Wind_True  = -true_yes/true_count*math.log(true_yes/true_count,2)-true_no/true_count*math.log(true_no/true_count,2)\n",
    "if true_yes==0:\n",
    "    Entropy_Wind_True  = 0-true_no/true_count*math.log(true_no/true_count,2)\n",
    "if true_no==0 :\n",
    "    Entropy_Wind_True  =0 -true_yes/true_count*math.log(true_yes/true_count,2)\n",
    "if true_yes==0 and true_no==0:\n",
    "    Entropy_Wind_True  = 0\n",
    "Entropy_Wind_True"
   ]
  },
  {
   "cell_type": "code",
   "execution_count": 30,
   "metadata": {
    "collapsed": true
   },
   "outputs": [],
   "source": [
    "Gain_Sunny_Windy=Entropy_Play_Outlook_Sunny -false_count/sunny_count*Entropy_Wind_False-true_count/sunny_count*Entropy_Wind_True "
   ]
  },
  {
   "cell_type": "code",
   "execution_count": 31,
   "metadata": {},
   "outputs": [
    {
     "data": {
      "text/plain": [
       "0.019973094021974891"
      ]
     },
     "execution_count": 31,
     "metadata": {},
     "output_type": "execute_result"
    }
   ],
   "source": [
    "Gain_Sunny_Windy"
   ]
  },
  {
   "cell_type": "markdown",
   "metadata": {},
   "source": [
    "你的Information Gain for windy正确结果应该为:0.019973"
   ]
  },
  {
   "cell_type": "markdown",
   "metadata": {},
   "source": [
    "### Information Gain for temperature\n",
    "* hot -> 2 -> [2- 0+]\n",
    "* mild -> 2 -> [1+ 1-]\n",
    "* cool -> 1  -> [1+ 0-]"
   ]
  },
  {
   "cell_type": "markdown",
   "metadata": {},
   "source": [
    "计算热度信息增益"
   ]
  },
  {
   "cell_type": "code",
   "execution_count": 32,
   "metadata": {},
   "outputs": [
    {
     "data": {
      "text/html": [
       "<div>\n",
       "<style>\n",
       "    .dataframe thead tr:only-child th {\n",
       "        text-align: right;\n",
       "    }\n",
       "\n",
       "    .dataframe thead th {\n",
       "        text-align: left;\n",
       "    }\n",
       "\n",
       "    .dataframe tbody tr th {\n",
       "        vertical-align: top;\n",
       "    }\n",
       "</style>\n",
       "<table border=\"1\" class=\"dataframe\">\n",
       "  <thead>\n",
       "    <tr style=\"text-align: right;\">\n",
       "      <th></th>\n",
       "      <th>outlook</th>\n",
       "      <th>temp</th>\n",
       "      <th>humidity</th>\n",
       "      <th>windy</th>\n",
       "      <th>play</th>\n",
       "    </tr>\n",
       "  </thead>\n",
       "  <tbody>\n",
       "    <tr>\n",
       "      <th>0</th>\n",
       "      <td>sunny</td>\n",
       "      <td>hot</td>\n",
       "      <td>high</td>\n",
       "      <td>False</td>\n",
       "      <td>no</td>\n",
       "    </tr>\n",
       "    <tr>\n",
       "      <th>1</th>\n",
       "      <td>sunny</td>\n",
       "      <td>hot</td>\n",
       "      <td>high</td>\n",
       "      <td>True</td>\n",
       "      <td>no</td>\n",
       "    </tr>\n",
       "  </tbody>\n",
       "</table>\n",
       "</div>"
      ],
      "text/plain": [
       "  outlook temp humidity  windy play\n",
       "0   sunny  hot     high  False   no\n",
       "1   sunny  hot     high   True   no"
      ]
     },
     "execution_count": 32,
     "metadata": {},
     "output_type": "execute_result"
    }
   ],
   "source": [
    "sunny[sunny.temp == 'hot']"
   ]
  },
  {
   "cell_type": "code",
   "execution_count": 33,
   "metadata": {},
   "outputs": [
    {
     "data": {
      "text/plain": [
       "0.0"
      ]
     },
     "execution_count": 33,
     "metadata": {},
     "output_type": "execute_result"
    }
   ],
   "source": [
    "hot_count=sunny[sunny.temp == 'hot'].temp.count()\n",
    "hot_yes=list(sunny[sunny.temp == 'hot'].play).count('yes')\n",
    "hot_no=list(sunny[sunny.temp == 'hot'].play).count('no')\n",
    "if hot_yes!=0 and hot_no!=0:\n",
    "    Entropy_Temp_Hot  = -hot_yes/hot_count*math.log(hot_yes/hot_count,2)-hot_no/hot_count*math.log(hot_no/hot_count,2)\n",
    "if hot_yes==0:\n",
    "    Entropy_Temp_Hot  = 0-hot_no/hot_count*math.log(hot_no/hot_count,2)\n",
    "if true_no==0 :\n",
    "    Entropy_Temp_Hot  =0 -hot_yes/hot_count*math.log(hot_yes/hot_count,2)\n",
    "if hot_yes==0 and hot_no==0:\n",
    "    Entropy_Temp_Hot  = 0\n",
    "Entropy_Temp_Hot"
   ]
  },
  {
   "cell_type": "code",
   "execution_count": 34,
   "metadata": {},
   "outputs": [
    {
     "data": {
      "text/html": [
       "<div>\n",
       "<style>\n",
       "    .dataframe thead tr:only-child th {\n",
       "        text-align: right;\n",
       "    }\n",
       "\n",
       "    .dataframe thead th {\n",
       "        text-align: left;\n",
       "    }\n",
       "\n",
       "    .dataframe tbody tr th {\n",
       "        vertical-align: top;\n",
       "    }\n",
       "</style>\n",
       "<table border=\"1\" class=\"dataframe\">\n",
       "  <thead>\n",
       "    <tr style=\"text-align: right;\">\n",
       "      <th></th>\n",
       "      <th>outlook</th>\n",
       "      <th>temp</th>\n",
       "      <th>humidity</th>\n",
       "      <th>windy</th>\n",
       "      <th>play</th>\n",
       "    </tr>\n",
       "  </thead>\n",
       "  <tbody>\n",
       "    <tr>\n",
       "      <th>7</th>\n",
       "      <td>sunny</td>\n",
       "      <td>mild</td>\n",
       "      <td>high</td>\n",
       "      <td>False</td>\n",
       "      <td>no</td>\n",
       "    </tr>\n",
       "    <tr>\n",
       "      <th>10</th>\n",
       "      <td>sunny</td>\n",
       "      <td>mild</td>\n",
       "      <td>normal</td>\n",
       "      <td>True</td>\n",
       "      <td>yes</td>\n",
       "    </tr>\n",
       "  </tbody>\n",
       "</table>\n",
       "</div>"
      ],
      "text/plain": [
       "   outlook  temp humidity  windy play\n",
       "7    sunny  mild     high  False   no\n",
       "10   sunny  mild   normal   True  yes"
      ]
     },
     "execution_count": 34,
     "metadata": {},
     "output_type": "execute_result"
    }
   ],
   "source": [
    "sunny[sunny.temp == 'mild']"
   ]
  },
  {
   "cell_type": "code",
   "execution_count": 35,
   "metadata": {},
   "outputs": [
    {
     "data": {
      "text/plain": [
       "1.0"
      ]
     },
     "execution_count": 35,
     "metadata": {},
     "output_type": "execute_result"
    }
   ],
   "source": [
    "mild_count=sunny[sunny.temp == 'mild'].temp.count()\n",
    "mild_yes=list(sunny[sunny.temp == 'mild'].play).count('yes')\n",
    "mild_no=list(sunny[sunny.temp == 'mild'].play).count('no')\n",
    "if mild_yes!=0 and mild_no!=0:\n",
    "    Entropy_Temp_Mild  = -mild_yes/mild_count*math.log(mild_yes/mild_count,2)-mild_no/mild_count*math.log(mild_no/mild_count,2)\n",
    "if mild_yes==0:\n",
    "    Entropy_Temp_Mild  = 0-mild_no/mild_count*math.log(mild_no/mild_count,2)\n",
    "if mild_no==0 :\n",
    "    Entropy_Temp_Mild  =0 -mild_yes/mild_count*math.log(mild_yes/mild_count,2)\n",
    "if mild_yes==0 and mild_no==0:\n",
    "    Entropy_Temp_Mild  = 0\n",
    "Entropy_Temp_Mild"
   ]
  },
  {
   "cell_type": "markdown",
   "metadata": {},
   "source": [
    "你的Information Gain for temp正确结果应该为:0.570951"
   ]
  },
  {
   "cell_type": "code",
   "execution_count": 36,
   "metadata": {},
   "outputs": [
    {
     "data": {
      "text/html": [
       "<div>\n",
       "<style>\n",
       "    .dataframe thead tr:only-child th {\n",
       "        text-align: right;\n",
       "    }\n",
       "\n",
       "    .dataframe thead th {\n",
       "        text-align: left;\n",
       "    }\n",
       "\n",
       "    .dataframe tbody tr th {\n",
       "        vertical-align: top;\n",
       "    }\n",
       "</style>\n",
       "<table border=\"1\" class=\"dataframe\">\n",
       "  <thead>\n",
       "    <tr style=\"text-align: right;\">\n",
       "      <th></th>\n",
       "      <th>outlook</th>\n",
       "      <th>temp</th>\n",
       "      <th>humidity</th>\n",
       "      <th>windy</th>\n",
       "      <th>play</th>\n",
       "    </tr>\n",
       "  </thead>\n",
       "  <tbody>\n",
       "    <tr>\n",
       "      <th>8</th>\n",
       "      <td>sunny</td>\n",
       "      <td>cool</td>\n",
       "      <td>normal</td>\n",
       "      <td>False</td>\n",
       "      <td>yes</td>\n",
       "    </tr>\n",
       "  </tbody>\n",
       "</table>\n",
       "</div>"
      ],
      "text/plain": [
       "  outlook  temp humidity  windy play\n",
       "8   sunny  cool   normal  False  yes"
      ]
     },
     "execution_count": 36,
     "metadata": {},
     "output_type": "execute_result"
    }
   ],
   "source": [
    "sunny[sunny.temp == 'cool']"
   ]
  },
  {
   "cell_type": "code",
   "execution_count": 37,
   "metadata": {},
   "outputs": [
    {
     "data": {
      "text/plain": [
       "0.0"
      ]
     },
     "execution_count": 37,
     "metadata": {},
     "output_type": "execute_result"
    }
   ],
   "source": [
    "cool_count=sunny[sunny.temp == 'cool'].temp.count()\n",
    "cool_yes=list(sunny[sunny.temp == 'cool'].play).count('yes')\n",
    "cool_no=list(sunny[sunny.temp == 'cool'].play).count('no')\n",
    "if cool_yes!=0 and cool_no!=0:\n",
    "    Entropy_Temp_Cool  = -cool_yes/cool_count*math.log(cool_yes/cool_count,2)-cool_no/cool_count*math.log(cool_no/cool_count,2)\n",
    "if cool_yes==0:\n",
    "    Entropy_Temp_Cool  = 0-cool_no/cool_count*math.log(cool_no/cool_count,2)\n",
    "if cool_no==0 :\n",
    "    Entropy_Temp_Cool  =0 -cool_yes/cool_count*math.log(cool_yes/cool_count,2)\n",
    "if cool_yes==0 and cool_no==0:\n",
    "    Entropy_Temp_Cool  = 0\n",
    "Entropy_Temp_Cool"
   ]
  },
  {
   "cell_type": "code",
   "execution_count": 38,
   "metadata": {},
   "outputs": [
    {
     "data": {
      "text/plain": [
       "0.57095059445466856"
      ]
     },
     "execution_count": 38,
     "metadata": {},
     "output_type": "execute_result"
    }
   ],
   "source": [
    "Gain_Sunny_Windy=Entropy_Play_Outlook_Sunny-hot_count/sunny_count*Entropy_Temp_Hot-mild_count/sunny_count*Entropy_Temp_Mild-cool_count/sunny_count*Entropy_Temp_Cool\n",
    "Gain_Sunny_Windy"
   ]
  },
  {
   "cell_type": "markdown",
   "metadata": {},
   "source": [
    "#### Conclusion : Humidity is the best choice on sunny branch\n",
    "\n",
    "<img src=\"https://github.com/awantik/machine-learning-slides/blob/master/dt3.PNG?raw=true\" width=\"600px\">"
   ]
  },
  {
   "cell_type": "code",
   "execution_count": 39,
   "metadata": {},
   "outputs": [
    {
     "data": {
      "text/html": [
       "<div>\n",
       "<style>\n",
       "    .dataframe thead tr:only-child th {\n",
       "        text-align: right;\n",
       "    }\n",
       "\n",
       "    .dataframe thead th {\n",
       "        text-align: left;\n",
       "    }\n",
       "\n",
       "    .dataframe tbody tr th {\n",
       "        vertical-align: top;\n",
       "    }\n",
       "</style>\n",
       "<table border=\"1\" class=\"dataframe\">\n",
       "  <thead>\n",
       "    <tr style=\"text-align: right;\">\n",
       "      <th></th>\n",
       "      <th>outlook</th>\n",
       "      <th>temp</th>\n",
       "      <th>humidity</th>\n",
       "      <th>windy</th>\n",
       "      <th>play</th>\n",
       "    </tr>\n",
       "  </thead>\n",
       "  <tbody>\n",
       "    <tr>\n",
       "      <th>0</th>\n",
       "      <td>sunny</td>\n",
       "      <td>hot</td>\n",
       "      <td>high</td>\n",
       "      <td>False</td>\n",
       "      <td>no</td>\n",
       "    </tr>\n",
       "    <tr>\n",
       "      <th>1</th>\n",
       "      <td>sunny</td>\n",
       "      <td>hot</td>\n",
       "      <td>high</td>\n",
       "      <td>True</td>\n",
       "      <td>no</td>\n",
       "    </tr>\n",
       "    <tr>\n",
       "      <th>7</th>\n",
       "      <td>sunny</td>\n",
       "      <td>mild</td>\n",
       "      <td>high</td>\n",
       "      <td>False</td>\n",
       "      <td>no</td>\n",
       "    </tr>\n",
       "  </tbody>\n",
       "</table>\n",
       "</div>"
      ],
      "text/plain": [
       "  outlook  temp humidity  windy play\n",
       "0   sunny   hot     high  False   no\n",
       "1   sunny   hot     high   True   no\n",
       "7   sunny  mild     high  False   no"
      ]
     },
     "execution_count": 39,
     "metadata": {},
     "output_type": "execute_result"
    }
   ],
   "source": [
    "play_data[(play_data.outlook == 'sunny') & (play_data.humidity == 'high')]"
   ]
  },
  {
   "cell_type": "code",
   "execution_count": 40,
   "metadata": {},
   "outputs": [
    {
     "data": {
      "text/html": [
       "<div>\n",
       "<style>\n",
       "    .dataframe thead tr:only-child th {\n",
       "        text-align: right;\n",
       "    }\n",
       "\n",
       "    .dataframe thead th {\n",
       "        text-align: left;\n",
       "    }\n",
       "\n",
       "    .dataframe tbody tr th {\n",
       "        vertical-align: top;\n",
       "    }\n",
       "</style>\n",
       "<table border=\"1\" class=\"dataframe\">\n",
       "  <thead>\n",
       "    <tr style=\"text-align: right;\">\n",
       "      <th></th>\n",
       "      <th>outlook</th>\n",
       "      <th>temp</th>\n",
       "      <th>humidity</th>\n",
       "      <th>windy</th>\n",
       "      <th>play</th>\n",
       "    </tr>\n",
       "  </thead>\n",
       "  <tbody>\n",
       "    <tr>\n",
       "      <th>8</th>\n",
       "      <td>sunny</td>\n",
       "      <td>cool</td>\n",
       "      <td>normal</td>\n",
       "      <td>False</td>\n",
       "      <td>yes</td>\n",
       "    </tr>\n",
       "    <tr>\n",
       "      <th>10</th>\n",
       "      <td>sunny</td>\n",
       "      <td>mild</td>\n",
       "      <td>normal</td>\n",
       "      <td>True</td>\n",
       "      <td>yes</td>\n",
       "    </tr>\n",
       "  </tbody>\n",
       "</table>\n",
       "</div>"
      ],
      "text/plain": [
       "   outlook  temp humidity  windy play\n",
       "8    sunny  cool   normal  False  yes\n",
       "10   sunny  mild   normal   True  yes"
      ]
     },
     "execution_count": 40,
     "metadata": {},
     "output_type": "execute_result"
    }
   ],
   "source": [
    "play_data[(play_data.outlook == 'sunny') & (play_data.humidity == 'normal')]"
   ]
  },
  {
   "cell_type": "markdown",
   "metadata": {},
   "source": [
    "### Splitting the rainy branch"
   ]
  },
  {
   "cell_type": "code",
   "execution_count": 41,
   "metadata": {},
   "outputs": [
    {
     "data": {
      "text/html": [
       "<div>\n",
       "<style>\n",
       "    .dataframe thead tr:only-child th {\n",
       "        text-align: right;\n",
       "    }\n",
       "\n",
       "    .dataframe thead th {\n",
       "        text-align: left;\n",
       "    }\n",
       "\n",
       "    .dataframe tbody tr th {\n",
       "        vertical-align: top;\n",
       "    }\n",
       "</style>\n",
       "<table border=\"1\" class=\"dataframe\">\n",
       "  <thead>\n",
       "    <tr style=\"text-align: right;\">\n",
       "      <th></th>\n",
       "      <th>outlook</th>\n",
       "      <th>temp</th>\n",
       "      <th>humidity</th>\n",
       "      <th>windy</th>\n",
       "      <th>play</th>\n",
       "    </tr>\n",
       "  </thead>\n",
       "  <tbody>\n",
       "    <tr>\n",
       "      <th>3</th>\n",
       "      <td>rainy</td>\n",
       "      <td>mild</td>\n",
       "      <td>high</td>\n",
       "      <td>False</td>\n",
       "      <td>yes</td>\n",
       "    </tr>\n",
       "    <tr>\n",
       "      <th>4</th>\n",
       "      <td>rainy</td>\n",
       "      <td>cool</td>\n",
       "      <td>normal</td>\n",
       "      <td>False</td>\n",
       "      <td>yes</td>\n",
       "    </tr>\n",
       "    <tr>\n",
       "      <th>5</th>\n",
       "      <td>rainy</td>\n",
       "      <td>cool</td>\n",
       "      <td>normal</td>\n",
       "      <td>True</td>\n",
       "      <td>no</td>\n",
       "    </tr>\n",
       "    <tr>\n",
       "      <th>9</th>\n",
       "      <td>rainy</td>\n",
       "      <td>mild</td>\n",
       "      <td>normal</td>\n",
       "      <td>False</td>\n",
       "      <td>yes</td>\n",
       "    </tr>\n",
       "    <tr>\n",
       "      <th>13</th>\n",
       "      <td>rainy</td>\n",
       "      <td>mild</td>\n",
       "      <td>high</td>\n",
       "      <td>True</td>\n",
       "      <td>no</td>\n",
       "    </tr>\n",
       "  </tbody>\n",
       "</table>\n",
       "</div>"
      ],
      "text/plain": [
       "   outlook  temp humidity  windy play\n",
       "3    rainy  mild     high  False  yes\n",
       "4    rainy  cool   normal  False  yes\n",
       "5    rainy  cool   normal   True   no\n",
       "9    rainy  mild   normal  False  yes\n",
       "13   rainy  mild     high   True   no"
      ]
     },
     "execution_count": 41,
     "metadata": {},
     "output_type": "execute_result"
    }
   ],
   "source": [
    "play_data[play_data.outlook == 'rainy']"
   ]
  },
  {
   "cell_type": "code",
   "execution_count": 42,
   "metadata": {
    "collapsed": true
   },
   "outputs": [],
   "source": [
    "Entropy_Play_Outlook_Rainy=Entropy_Play_Outlook_Rain"
   ]
  },
  {
   "cell_type": "code",
   "execution_count": 43,
   "metadata": {},
   "outputs": [
    {
     "data": {
      "text/plain": [
       "0.97095059445466858"
      ]
     },
     "execution_count": 43,
     "metadata": {},
     "output_type": "execute_result"
    }
   ],
   "source": [
    "Entropy_Play_Outlook_Rainy"
   ]
  },
  {
   "cell_type": "markdown",
   "metadata": {},
   "source": [
    "你的Entropy_Play_Outlook_Rainy正确结果应该为:0.970951"
   ]
  },
  {
   "cell_type": "markdown",
   "metadata": {},
   "source": [
    "### Information Gain for temp\n",
    "* mild -> 3 [2+ 1-]\n",
    "* cool -> 2 [1+ 1-]"
   ]
  },
  {
   "cell_type": "markdown",
   "metadata": {},
   "source": [
    "计算温度信息增益"
   ]
  },
  {
   "cell_type": "code",
   "execution_count": 44,
   "metadata": {},
   "outputs": [
    {
     "data": {
      "text/html": [
       "<div>\n",
       "<style>\n",
       "    .dataframe thead tr:only-child th {\n",
       "        text-align: right;\n",
       "    }\n",
       "\n",
       "    .dataframe thead th {\n",
       "        text-align: left;\n",
       "    }\n",
       "\n",
       "    .dataframe tbody tr th {\n",
       "        vertical-align: top;\n",
       "    }\n",
       "</style>\n",
       "<table border=\"1\" class=\"dataframe\">\n",
       "  <thead>\n",
       "    <tr style=\"text-align: right;\">\n",
       "      <th></th>\n",
       "      <th>outlook</th>\n",
       "      <th>temp</th>\n",
       "      <th>humidity</th>\n",
       "      <th>windy</th>\n",
       "      <th>play</th>\n",
       "    </tr>\n",
       "  </thead>\n",
       "  <tbody>\n",
       "    <tr>\n",
       "      <th>3</th>\n",
       "      <td>rainy</td>\n",
       "      <td>mild</td>\n",
       "      <td>high</td>\n",
       "      <td>False</td>\n",
       "      <td>yes</td>\n",
       "    </tr>\n",
       "    <tr>\n",
       "      <th>4</th>\n",
       "      <td>rainy</td>\n",
       "      <td>cool</td>\n",
       "      <td>normal</td>\n",
       "      <td>False</td>\n",
       "      <td>yes</td>\n",
       "    </tr>\n",
       "    <tr>\n",
       "      <th>5</th>\n",
       "      <td>rainy</td>\n",
       "      <td>cool</td>\n",
       "      <td>normal</td>\n",
       "      <td>True</td>\n",
       "      <td>no</td>\n",
       "    </tr>\n",
       "    <tr>\n",
       "      <th>9</th>\n",
       "      <td>rainy</td>\n",
       "      <td>mild</td>\n",
       "      <td>normal</td>\n",
       "      <td>False</td>\n",
       "      <td>yes</td>\n",
       "    </tr>\n",
       "    <tr>\n",
       "      <th>13</th>\n",
       "      <td>rainy</td>\n",
       "      <td>mild</td>\n",
       "      <td>high</td>\n",
       "      <td>True</td>\n",
       "      <td>no</td>\n",
       "    </tr>\n",
       "  </tbody>\n",
       "</table>\n",
       "</div>"
      ],
      "text/plain": [
       "   outlook  temp humidity  windy play\n",
       "3    rainy  mild     high  False  yes\n",
       "4    rainy  cool   normal  False  yes\n",
       "5    rainy  cool   normal   True   no\n",
       "9    rainy  mild   normal  False  yes\n",
       "13   rainy  mild     high   True   no"
      ]
     },
     "execution_count": 44,
     "metadata": {},
     "output_type": "execute_result"
    }
   ],
   "source": [
    "rainy=play_data[play_data.outlook == 'rainy']\n",
    "rainy"
   ]
  },
  {
   "cell_type": "markdown",
   "metadata": {},
   "source": [
    "正确结果为0.020151"
   ]
  },
  {
   "cell_type": "code",
   "execution_count": 45,
   "metadata": {},
   "outputs": [
    {
     "name": "stderr",
     "output_type": "stream",
     "text": [
      "E:\\APP\\Anacoda3\\lib\\site-packages\\ipykernel_launcher.py:7: RuntimeWarning: invalid value encountered in long_scalars\n",
      "  import sys\n"
     ]
    },
    {
     "data": {
      "text/plain": [
       "0"
      ]
     },
     "execution_count": 45,
     "metadata": {},
     "output_type": "execute_result"
    }
   ],
   "source": [
    "hot_count=rainy[rainy.temp == 'hot'].temp.count()\n",
    "hot_yes=list(rainy[rainy.temp == 'hot'].play).count('yes')\n",
    "hot_no=list(rainy[rainy.temp == 'hot'].play).count('no')\n",
    "if hot_yes!=0 and hot_no!=0:\n",
    "    Entropy_Rainy_Temp_Hot  = -hot_yes/hot_count*math.log(hot_yes/hot_count,2)-hot_no/hot_count*math.log(hot_no/hot_count,2)\n",
    "if hot_yes==0:\n",
    "    Entropy_Rainy_Temp_Hot  = 0-hot_no/hot_count*math.log(hot_no/hot_count,2)\n",
    "if true_no==0 :\n",
    "    Entropy_Rainy_Temp_Hot  =0 -hot_yes/hot_count*math.log(hot_yes/hot_count,2)\n",
    "if hot_yes==0 and hot_no==0:\n",
    "    Entropy_Rainy_Temp_Hot  = 0\n",
    "Entropy_Rainy_Temp_Hot\n"
   ]
  },
  {
   "cell_type": "code",
   "execution_count": 46,
   "metadata": {},
   "outputs": [
    {
     "data": {
      "text/plain": [
       "0.91829583405448956"
      ]
     },
     "execution_count": 46,
     "metadata": {},
     "output_type": "execute_result"
    }
   ],
   "source": [
    "#mild\n",
    "mild_count=rainy[rainy.temp == 'mild'].temp.count()\n",
    "mild_yes=list(rainy[rainy.temp == 'mild'].play).count('yes')\n",
    "mild_no=list(rainy[rainy.temp == 'mild'].play).count('no')\n",
    "if mild_yes!=0 and mild_no!=0:\n",
    "    Entropy_Rainy_Temp_Mild  = -mild_yes/mild_count*math.log(mild_yes/mild_count,2)-mild_no/mild_count*math.log(mild_no/mild_count,2)\n",
    "if mild_yes==0:\n",
    "    Entropy_Rainy_Temp_Mild  = 0-mild_no/mild_count*math.log(mild_no/mild_count,2)\n",
    "if mild_no==0 :\n",
    "    Entropy_Rainy_Temp_Mild  =0 -mild_yes/mild_count*math.log(mild_yes/mild_count,2)\n",
    "if mild_yes==0 and mild_no==0:\n",
    "    Entropy_Rainy_Temp_Mild  = 0\n",
    "Entropy_Rainy_Temp_Mild"
   ]
  },
  {
   "cell_type": "code",
   "execution_count": 47,
   "metadata": {},
   "outputs": [
    {
     "data": {
      "text/plain": [
       "1.0"
      ]
     },
     "execution_count": 47,
     "metadata": {},
     "output_type": "execute_result"
    }
   ],
   "source": [
    "#cool\n",
    "cool_count=rainy[rainy.temp == 'cool'].temp.count()\n",
    "cool_yes=list(rainy[rainy.temp == 'cool'].play).count('yes')\n",
    "cool_no=list(rainy[rainy.temp == 'cool'].play).count('no')\n",
    "if cool_yes!=0 and cool_no!=0:\n",
    "    Entropy_Rainy_Temp_Cool  = -cool_yes/cool_count*math.log(cool_yes/cool_count,2)-cool_no/cool_count*math.log(cool_no/cool_count,2)\n",
    "if cool_yes==0:\n",
    "    Entropy_Rainy_Temp_Cool  = 0-cool_no/cool_count*math.log(cool_no/cool_count,2)\n",
    "if cool_no==0 :\n",
    "    Entropy_Rainy_Temp_Cool  =0 -cool_yes/cool_count*math.log(cool_yes/cool_count,2)\n",
    "if cool_yes==0 and cool_no==0:\n",
    "    Entropy_Rainy_Temp_Cool  = 0\n",
    "Entropy_Rainy_Temp_Cool"
   ]
  },
  {
   "cell_type": "code",
   "execution_count": 48,
   "metadata": {},
   "outputs": [
    {
     "data": {
      "text/plain": [
       "0.019973094021974891"
      ]
     },
     "execution_count": 48,
     "metadata": {},
     "output_type": "execute_result"
    }
   ],
   "source": [
    "Gain_Rainy_Temp=Entropy_Play_Outlook_Rainy-hot_count/rainy_count*Entropy_Rainy_Temp_Hot-mild_count/rainy_count*Entropy_Rainy_Temp_Mild-cool_count/rainy_count*Entropy_Rainy_Temp_Cool\n",
    "Gain_Rainy_Temp"
   ]
  },
  {
   "cell_type": "markdown",
   "metadata": {},
   "source": [
    "### Information Gain for Windy"
   ]
  },
  {
   "cell_type": "markdown",
   "metadata": {},
   "source": [
    "计算风信息增益"
   ]
  },
  {
   "cell_type": "code",
   "execution_count": 49,
   "metadata": {},
   "outputs": [
    {
     "name": "stdout",
     "output_type": "stream",
     "text": [
      "3 0\n"
     ]
    },
    {
     "data": {
      "text/plain": [
       "0.0"
      ]
     },
     "execution_count": 49,
     "metadata": {},
     "output_type": "execute_result"
    }
   ],
   "source": [
    "false_count=rainy[rainy.windy == False].windy.count()\n",
    "false_yes=list(rainy[rainy.windy == False].play).count('yes')\n",
    "false_no=list(rainy[rainy.windy == False].play).count('no')\n",
    "print(false_yes,false_no)\n",
    "if false_yes!=0 and false_no!=0:\n",
    "    Entropy_Rainy_Wind_False  = -false_yes/false_count*math.log(false_yes/false_count,2)-false_no/false_count*math.log(false_no/false_count,2)\n",
    "if false_yes==0:\n",
    "    Entropy_Rainy_Wind_False  = 0-false_no/false_count*math.log(false_no/false_count,2)\n",
    "if false_no==0 :\n",
    "    Entropy_Rainy_Wind_False  = 0-false_yes/false_count*math.log(false_yes/false_count,2)\n",
    "if false_yes==0 and false_no==0:\n",
    "    Entropy_Rainy_Wind_False  = 0\n",
    "Entropy_Rainy_Wind_False"
   ]
  },
  {
   "cell_type": "code",
   "execution_count": 50,
   "metadata": {},
   "outputs": [
    {
     "name": "stdout",
     "output_type": "stream",
     "text": [
      "0 2\n"
     ]
    },
    {
     "data": {
      "text/plain": [
       "0.0"
      ]
     },
     "execution_count": 50,
     "metadata": {},
     "output_type": "execute_result"
    }
   ],
   "source": [
    "true_count=rainy[rainy.windy == True].windy.count()\n",
    "true_yes=list(rainy[rainy.windy == True].play).count('yes')\n",
    "true_no=list(rainy[rainy.windy == True].play).count('no')\n",
    "print(true_yes,true_no)\n",
    "if true_yes!=0 and true_no!=0:\n",
    "    Entropy_Rainy_Wind_True  = -true_yes/true_count*math.log(true_yes/true_count,2)-true_no/true_count*math.log(true_no/true_count,2)\n",
    "if true_yes==0:\n",
    "    Entropy_Rainy_Wind_True  = 0-true_no/true_count*math.log(true_no/true_count,2)\n",
    "if true_no==0 :\n",
    "    Entropy_Rainy_Wind_True  =0 -true_yes/true_count*math.log(true_yes/true_count,2)\n",
    "if true_yes==0 and true_no==0:\n",
    "    Entropy_Rainy_Wind_True  = 0\n",
    "Entropy_Rainy_Wind_True"
   ]
  },
  {
   "cell_type": "code",
   "execution_count": 51,
   "metadata": {},
   "outputs": [
    {
     "data": {
      "text/plain": [
       "0.97095059445466858"
      ]
     },
     "execution_count": 51,
     "metadata": {},
     "output_type": "execute_result"
    }
   ],
   "source": [
    "Gain_Rainy_Windy=Entropy_Play_Outlook_Rainy-false_count/rainy_count*Entropy_Rainy_Wind_False-true_count/rainy_count*Entropy_Rainy_Wind_True\n",
    "Gain_Rainy_Windy"
   ]
  },
  {
   "cell_type": "markdown",
   "metadata": {},
   "source": [
    "正确结果为0.970951"
   ]
  },
  {
   "cell_type": "markdown",
   "metadata": {},
   "source": [
    "### Information Gain for Humidity\n",
    "* High -> 2 -> [1+ 1-]\n",
    "* Normal -> 3 -> [2+ 1-]"
   ]
  },
  {
   "cell_type": "code",
   "execution_count": 52,
   "metadata": {
    "collapsed": true
   },
   "outputs": [],
   "source": [
    "normal_count=rainy[rainy. humidity=='normal'].humidity.count()\n",
    "normal_yes=list(rainy[rainy. humidity=='normal'].play).count('yes')\n",
    "normal_no=list(rainy[rainy. humidity=='normal'].play).count('no')\n",
    "if normal_yes!=0 and normal_no!=0:\n",
    "    Entropy_Play_Outlook_Rainy_Normal = -normal_yes/normal_count*math.log(normal_yes/normal_count,2)-normal_no/normal_count*math.log(normal_no/normal_count,2)\n",
    "if normal_yes==0:\n",
    "    Entropy_Play_Outlook_Rainy_Normal=0-normal_no/normal_count*math.log(normal_no/normal_count,2)\n",
    "if normal_no==0 :\n",
    "    Entropy_Play_Outlook_Rainy_Normal=0-normal_yes/normal_count*math.log(normal_yes/normal_count,2)\n",
    "if normal_yes==0 and normal_no==0:\n",
    "    Entropy_Play_Outlook_Rainy_Normal=0"
   ]
  },
  {
   "cell_type": "code",
   "execution_count": 53,
   "metadata": {},
   "outputs": [
    {
     "data": {
      "text/plain": [
       "0.91829583405448956"
      ]
     },
     "execution_count": 53,
     "metadata": {},
     "output_type": "execute_result"
    }
   ],
   "source": [
    "Entropy_Play_Outlook_Rainy_Normal"
   ]
  },
  {
   "cell_type": "markdown",
   "metadata": {},
   "source": [
    "Entropy_Play_Outlook_Rainy_Normal的正确结果为0.918296"
   ]
  },
  {
   "cell_type": "code",
   "execution_count": 54,
   "metadata": {
    "collapsed": true
   },
   "outputs": [],
   "source": [
    "high_count=rainy[rainy. humidity=='high'].humidity.count()\n",
    "high_yes=list(rainy[rainy. humidity=='high'].play).count('yes')\n",
    "high_no=list(rainy[rainy. humidity=='high'].play).count('no')\n",
    "if high_yes!=0 and high_no!=0:\n",
    "     Entropy_Play_Outlook_Rainy_High =-high_no/high_count*math.log(high_no/high_count,2)-high_yes/high_count*math.log(high_yes/high_count,2)\n",
    "if high_yes==0:\n",
    "    Entropy_Play_Outlook_Rainy_High=0-high_no/high_count*math.log(high_no/high_count,2) \n",
    "if high_no==0 :\n",
    "    Entropy_Play_Outlook_Rainy_High=0-high_yes/high_count*math.log(high_yes/high_count,2)\n",
    "if high_yes==0 and high_no==0:\n",
    "    Entropy_Play_Outlook_Rainy_High=0"
   ]
  },
  {
   "cell_type": "code",
   "execution_count": 55,
   "metadata": {},
   "outputs": [
    {
     "data": {
      "text/plain": [
       "1.0"
      ]
     },
     "execution_count": 55,
     "metadata": {},
     "output_type": "execute_result"
    }
   ],
   "source": [
    "Entropy_Play_Outlook_Rainy_High"
   ]
  },
  {
   "cell_type": "markdown",
   "metadata": {},
   "source": [
    "计算湿度信息增益"
   ]
  },
  {
   "cell_type": "code",
   "execution_count": 56,
   "metadata": {},
   "outputs": [
    {
     "data": {
      "text/plain": [
       "0.019973094021974891"
      ]
     },
     "execution_count": 56,
     "metadata": {},
     "output_type": "execute_result"
    }
   ],
   "source": [
    "Gain_Rainy_Humidity=Entropy_Play_Outlook_Rainy-normal_count/rainy_count*Entropy_Play_Outlook_Rainy_Normal-high_count/rainy_count*Entropy_Play_Outlook_Rainy_High\n",
    "Gain_Rainy_Humidity"
   ]
  },
  {
   "cell_type": "markdown",
   "metadata": {},
   "source": [
    "正确结果为0.019973"
   ]
  },
  {
   "cell_type": "markdown",
   "metadata": {},
   "source": [
    "### Final Tree\n",
    "\n",
    "<img src=\"https://github.com/awantik/machine-learning-slides/blob/master/dt4.PNG?raw=true\" width=\"600px\">"
   ]
  },
  {
   "cell_type": "markdown",
   "metadata": {},
   "source": [
    "### 3. Decision Tree for Classification\n",
    "* The leaf nodes of decision tree decides the class\n",
    "* CART will convert features with continues values into categorical values\n",
    "* Different tree will be generated with same data given in different order"
   ]
  },
  {
   "cell_type": "code",
   "execution_count": 57,
   "metadata": {
    "collapsed": true
   },
   "outputs": [],
   "source": [
    "from sklearn.datasets import load_iris\n",
    "from sklearn.tree import export_graphviz"
   ]
  },
  {
   "cell_type": "code",
   "execution_count": 58,
   "metadata": {
    "collapsed": true
   },
   "outputs": [],
   "source": [
    "iris = load_iris()"
   ]
  },
  {
   "cell_type": "code",
   "execution_count": 59,
   "metadata": {},
   "outputs": [
    {
     "data": {
      "text/plain": [
       "array([[ 5.1,  3.5,  1.4,  0.2],\n",
       "       [ 4.9,  3. ,  1.4,  0.2],\n",
       "       [ 4.7,  3.2,  1.3,  0.2],\n",
       "       [ 4.6,  3.1,  1.5,  0.2],\n",
       "       [ 5. ,  3.6,  1.4,  0.2]])"
      ]
     },
     "execution_count": 59,
     "metadata": {},
     "output_type": "execute_result"
    }
   ],
   "source": [
    "iris.data[:5]"
   ]
  },
  {
   "cell_type": "code",
   "execution_count": 60,
   "metadata": {},
   "outputs": [
    {
     "data": {
      "text/plain": [
       "array([0, 0, 0, 0, 0])"
      ]
     },
     "execution_count": 60,
     "metadata": {},
     "output_type": "execute_result"
    }
   ],
   "source": [
    "iris.target[:5]"
   ]
  },
  {
   "cell_type": "markdown",
   "metadata": {},
   "source": [
    "请在下方实现交叉熵DecisionTreeClassifier："
   ]
  },
  {
   "cell_type": "code",
   "execution_count": 61,
   "metadata": {
    "collapsed": true
   },
   "outputs": [],
   "source": [
    "# DecisionTreeClassifier entropy\n",
    "#loss=−∑yilog(yi^)"
   ]
  },
  {
   "cell_type": "code",
   "execution_count": 62,
   "metadata": {
    "collapsed": true
   },
   "outputs": [],
   "source": [
    "from sklearn.model_selection import train_test_split"
   ]
  },
  {
   "cell_type": "code",
   "execution_count": 63,
   "metadata": {},
   "outputs": [
    {
     "name": "stdout",
     "output_type": "stream",
     "text": [
      "['sepal length (cm)', 'sepal width (cm)', 'petal length (cm)', 'petal width (cm)']\n"
     ]
    }
   ],
   "source": [
    "print(iris['feature_names'])"
   ]
  },
  {
   "cell_type": "code",
   "execution_count": 64,
   "metadata": {
    "collapsed": true
   },
   "outputs": [],
   "source": [
    "trainX,testX,trainY,testY = train_test_split(iris.data, iris.target,test_size=0.33)\n",
    "mylabels = ['sepal_length','sepal_width','petal_length','petal_width','class']\n",
    "labels=['sepal_length ', 'sepal_width ', 'petal_length ', 'petal_width ']"
   ]
  },
  {
   "cell_type": "markdown",
   "metadata": {},
   "source": [
    "请利用实现的DecisionTreeClassifier进行训练："
   ]
  },
  {
   "cell_type": "code",
   "execution_count": 65,
   "metadata": {
    "collapsed": true
   },
   "outputs": [],
   "source": [
    "import pandas as pd\n",
    "import numpy as np\n",
    "import math\n",
    "import operator\n",
    "def Entropy(dataSet):\n",
    "    num=len(dataSet)\n",
    "    labelCounts={}\n",
    "    for featVec in dataSet:\n",
    "        currentlabel=featVec[-1]            #最后一列的数值\n",
    "        if currentlabel not in labelCounts.keys():\n",
    "            labelCounts[currentlabel]=0\n",
    "        labelCounts[currentlabel]+=1   #键值记录出现次数\n",
    "    entropy=0.0\n",
    "    for key in labelCounts:\n",
    "        p=float(labelCounts[key])/num\n",
    "        entropy-=p*math.log(p,2)\n",
    "    return entropy\n",
    "\n",
    "\n",
    "\n",
    "        \n",
    "def split(dataSet,axis,value):             #按第n列值为n来划分\n",
    "    retDataSet=[]\n",
    "    for featVec in dataSet:\n",
    "        if featVec[axis]==value:\n",
    "            reduceFeatVec=featVec[:axis]\n",
    "            reduceFeatVec.extend(featVec[axis+1:])#第几行数据\n",
    "            retDataSet.append(reduceFeatVec)     #加入数据集\n",
    "    return  retDataSet\n",
    "\n",
    "#选择最好的数据集划分特征\n",
    "def chooseBestFeature(dataSet,labels):\n",
    "    numFeatures=len(dataSet[0])-1 \n",
    "    entropyFull=Entropy(dataSet)#总的信息熵\n",
    "    bestInfoGain=0.0;bestFeature=-1\n",
    "    for i in range(numFeatures):\n",
    "        featList=[example[i] for example in dataSet]\n",
    "        uniqueVals=set(featList)                            #创建唯一的分类标签列表\n",
    "        newEntropy=0.0\n",
    "        for value in uniqueVals:\n",
    "            subDataSet=split(dataSet,i,value)              #划分数据并计算香农熵\n",
    "            p=len(subDataSet)/float(len(dataSet))\n",
    "            newEntropy+=p*Entropy(subDataSet)\n",
    "        infoGain=entropyFull-newEntropy\n",
    "        print(\"{特征}\",labels[i],\"的信息增益为：\",infoGain)\n",
    "        if(infoGain>bestInfoGain):\n",
    "            bestInfoGain=infoGain\n",
    "            bestFeature=i\n",
    "    print(\"{最优特征}\",bestFeature,':',labels[bestFeature])\n",
    "    return bestFeature\n",
    "\n",
    "def classify(inputTree,test,featLabels):\n",
    "    firstStr=list(inputTree.keys())[0]\n",
    "    secondDict=inputTree[firstStr]\n",
    "    featIndex=featLabels.index(firstStr)\n",
    "    classLabel=-1\n",
    "    for key in secondDict.keys():\n",
    "        if test[featIndex]==key:\n",
    "            if type(secondDict[key]).__name__=='dict':#是否为字典类型\n",
    "                classLabel=classify(secondDict[key],test,featLabels)\n",
    "            else:    classLabel=secondDict[key]#叶子结点\n",
    "    return classLabel\n",
    "\n",
    "def majorityCnt(classList):\n",
    "    classCount={}\n",
    "    for vote in classList:\n",
    "        if vote not in classCount.keys():classCount[vote]=0\n",
    "        classCount[vote]+=1\n",
    "        sortedClassCount=sorted(classCount.items(),key=operator.itemgetter(1),reverse=True)\n",
    "    print('majorCnt',sortedClassCount[0][0]  )\n",
    "    return sortedClassCount[0][0]     #选择出现次数最多的类别\n",
    "\n",
    "def testingMajor(major, data_test):\n",
    "    error = 0.0\n",
    "    for i in range(len(data_test)):\n",
    "        if major != data_test[i][-1]:\n",
    "            error += 1\n",
    "    return float(error) \n",
    "\n",
    "#后剪枝\n",
    "def testing(myTree,data_test,labels):\n",
    "    print(labels)\n",
    "    error=0.0    \n",
    "    for i in range(len(data_test)):\n",
    "        if classify(myTree,data_test[i],labels)!=data_test[i][-1]:#如果预测结果与验证数据的类别标签不一致\n",
    "            error+=1    #错误数+1\n",
    "    print ('myTree %d' %error)\n",
    "    return float(error)\n",
    "\n",
    "def createTree(dataSet,labels,jianzhi):\n",
    "    lab=['sepal_length', 'sepal_width', 'petal_length', 'petal_width']\n",
    "    classList=[example[-1] for example in dataSet]\n",
    "    if classList.count(classList[0])==len(classList):\n",
    "        return classList[0]               #类别相同停止划分\n",
    "    if len(dataSet[0])==1:\n",
    "        return majorityCnt(classList)       #遍历完所有特征时选择出现次数最多的类别\n",
    "    bestFeat= chooseBestFeature(dataSet,labels)\n",
    "    bestFeatlabel=labels[bestFeat]\n",
    "    myTree={bestFeatlabel:{}}\n",
    "    label_copy=labels\n",
    "    #存储树\n",
    "    del(labels[bestFeat])  \n",
    "    print(\"labels:\",labels)\n",
    "    featValues=[example[bestFeat] for example in dataSet]\n",
    "    uniqueVals=set(featValues)\n",
    "    for value in uniqueVals:\n",
    "        sublabels=labels[:]\n",
    "        subdataset=split(dataSet,bestFeat,value)\n",
    "        myTree[bestFeatlabel][value]=createTree(subdataset,sublabels,jianzhi)\n",
    "    if jianzhi==\"post\":\n",
    "        if testing(myTree, dataSet,lab)> testingMajor(majorityCnt(classList),dataSet):\n",
    "            print('剪枝')\n",
    "            return majorityCnt(classList)\n",
    "    return myTree"
   ]
  },
  {
   "cell_type": "code",
   "execution_count": 66,
   "metadata": {
    "collapsed": true
   },
   "outputs": [],
   "source": [
    "def fit(trainX,trainY):\n",
    "    train= pd.DataFrame(np.hstack((trainX, trainY.reshape(-1, 1))),index = range(trainY.shape[0]),columns=mylabels)\n",
    "    labels = ['sepal_length','sepal_width','petal_length','petal_width']\n",
    "    train=(np.array(train)).tolist()\n",
    "    labels = ['sepal_length','sepal_width','petal_length','petal_width']\n",
    "    print('剪枝前')\n",
    "    myTree=createTree(train,labels,None)\n",
    "    print(\"剪枝前myTree:\",myTree)\n",
    "    #REP剪枝后\n",
    "    labels = ['sepal_length','sepal_width','petal_length','petal_width']\n",
    "    mode=\"post\"\n",
    "    print('剪枝后')\n",
    "    myTree1=createTree(train,labels,mode)\n",
    "    print(\"剪枝后myTree:\",myTree)\n",
    "    return myTree,myTree1\n",
    "  \n",
    "\n",
    "   "
   ]
  },
  {
   "cell_type": "code",
   "execution_count": 67,
   "metadata": {
    "scrolled": false
   },
   "outputs": [
    {
     "name": "stdout",
     "output_type": "stream",
     "text": [
      "剪枝前\n",
      "{特征} sepal_length 的信息增益为： 0.9290157452377874\n",
      "{特征} sepal_width 的信息增益为： 0.6204523432152202\n",
      "{特征} petal_length 的信息增益为： 1.4589096179082766\n",
      "{特征} petal_width 的信息增益为： 1.4303620881855432\n",
      "{最优特征} 2 : petal_length\n",
      "labels: ['sepal_length', 'sepal_width', 'petal_width']\n",
      "{特征} sepal_length 的信息增益为： 0.9182958340544896\n",
      "{特征} sepal_width 的信息增益为： 0.9182958340544896\n",
      "{特征} petal_width 的信息增益为： 0.9182958340544896\n",
      "{最优特征} 0 : sepal_length\n",
      "labels: ['sepal_width', 'petal_width']\n",
      "{特征} sepal_length 的信息增益为： 0.6500224216483541\n",
      "{特征} sepal_width 的信息增益为： 0.6500224216483541\n",
      "{特征} petal_width 的信息增益为： 0.6500224216483541\n",
      "{最优特征} 0 : sepal_length\n",
      "labels: ['sepal_width', 'petal_width']\n",
      "{特征} sepal_length 的信息增益为： 0.9182958340544896\n",
      "{特征} sepal_width 的信息增益为： 0.9182958340544896\n",
      "{特征} petal_width 的信息增益为： 0.9182958340544896\n",
      "{最优特征} 0 : sepal_length\n",
      "labels: ['sepal_width', 'petal_width']\n",
      "{特征} sepal_length 的信息增益为： 0.9182958340544896\n",
      "{特征} sepal_width 的信息增益为： 0.9182958340544896\n",
      "{特征} petal_width 的信息增益为： 0.2516291673878229\n",
      "{最优特征} 0 : sepal_length\n",
      "labels: ['sepal_width', 'petal_width']\n",
      "剪枝前myTree: {'petal_length': {1.9: 0.0, 1.7: 0.0, 3.0: 1.0, 3.7: 1.0, 5.0: {'sepal_length': {5.7: 2.0, 6.0: 2.0, 6.7: 1.0}}, 5.7: 2.0, 5.8: 2.0, 6.6: 2.0, 5.2: 2.0, 6.7: 2.0, 6.0: 2.0, 5.6: 2.0, 1.5: 0.0, 5.4: 2.0, 6.3: 2.0, 3.5: 1.0, 4.5: {'sepal_length': {4.9: 2.0, 5.6: 1.0, 5.7: 1.0, 6.2: 1.0, 6.0: 1.0}}, 4.4: 1.0, 4.0: 1.0, 4.9: {'sepal_length': {6.9: 1.0, 6.1: 2.0, 6.3: 1.0}}, 4.1: 1.0, 5.1: 2.0, 5.5: 2.0, 5.9: 2.0, 4.6: 1.0, 6.1: 2.0, 1.6: 0.0, 1.1: 0.0, 1.2: 0.0, 3.8: 1.0, 3.3: 1.0, 4.2: 1.0, 1.3: 0.0, 4.7: 1.0, 4.8: {'sepal_length': {5.9: 1.0, 6.0: 2.0, 6.8: 1.0}}, 4.3: 1.0, 5.3: 2.0, 1.4: 0.0, 3.9: 1.0}}\n",
      "剪枝后\n",
      "{特征} sepal_length 的信息增益为： 0.9290157452377874\n",
      "{特征} sepal_width 的信息增益为： 0.6204523432152202\n",
      "{特征} petal_length 的信息增益为： 1.4589096179082766\n",
      "{特征} petal_width 的信息增益为： 1.4303620881855432\n",
      "{最优特征} 2 : petal_length\n",
      "labels: ['sepal_length', 'sepal_width', 'petal_width']\n",
      "{特征} sepal_length 的信息增益为： 0.9182958340544896\n",
      "{特征} sepal_width 的信息增益为： 0.9182958340544896\n",
      "{特征} petal_width 的信息增益为： 0.9182958340544896\n",
      "{最优特征} 0 : sepal_length\n",
      "labels: ['sepal_width', 'petal_width']\n",
      "['sepal_length', 'sepal_width', 'petal_length', 'petal_width']\n",
      "myTree 0\n",
      "majorCnt 2.0\n",
      "{特征} sepal_length 的信息增益为： 0.6500224216483541\n",
      "{特征} sepal_width 的信息增益为： 0.6500224216483541\n",
      "{特征} petal_width 的信息增益为： 0.6500224216483541\n",
      "{最优特征} 0 : sepal_length\n",
      "labels: ['sepal_width', 'petal_width']\n",
      "['sepal_length', 'sepal_width', 'petal_length', 'petal_width']\n",
      "myTree 0\n",
      "majorCnt 1.0\n",
      "{特征} sepal_length 的信息增益为： 0.9182958340544896\n",
      "{特征} sepal_width 的信息增益为： 0.9182958340544896\n",
      "{特征} petal_width 的信息增益为： 0.9182958340544896\n",
      "{最优特征} 0 : sepal_length\n",
      "labels: ['sepal_width', 'petal_width']\n",
      "['sepal_length', 'sepal_width', 'petal_length', 'petal_width']\n",
      "myTree 0\n",
      "majorCnt 1.0\n",
      "{特征} sepal_length 的信息增益为： 0.9182958340544896\n",
      "{特征} sepal_width 的信息增益为： 0.9182958340544896\n",
      "{特征} petal_width 的信息增益为： 0.2516291673878229\n",
      "{最优特征} 0 : sepal_length\n",
      "labels: ['sepal_width', 'petal_width']\n",
      "['sepal_length', 'sepal_width', 'petal_length', 'petal_width']\n",
      "myTree 0\n",
      "majorCnt 1.0\n",
      "['sepal_length', 'sepal_width', 'petal_length', 'petal_width']\n",
      "myTree 0\n",
      "majorCnt 2.0\n",
      "剪枝后myTree: {'petal_length': {1.9: 0.0, 1.7: 0.0, 3.0: 1.0, 3.7: 1.0, 5.0: {'sepal_length': {5.7: 2.0, 6.0: 2.0, 6.7: 1.0}}, 5.7: 2.0, 5.8: 2.0, 6.6: 2.0, 5.2: 2.0, 6.7: 2.0, 6.0: 2.0, 5.6: 2.0, 1.5: 0.0, 5.4: 2.0, 6.3: 2.0, 3.5: 1.0, 4.5: {'sepal_length': {4.9: 2.0, 5.6: 1.0, 5.7: 1.0, 6.2: 1.0, 6.0: 1.0}}, 4.4: 1.0, 4.0: 1.0, 4.9: {'sepal_length': {6.9: 1.0, 6.1: 2.0, 6.3: 1.0}}, 4.1: 1.0, 5.1: 2.0, 5.5: 2.0, 5.9: 2.0, 4.6: 1.0, 6.1: 2.0, 1.6: 0.0, 1.1: 0.0, 1.2: 0.0, 3.8: 1.0, 3.3: 1.0, 4.2: 1.0, 1.3: 0.0, 4.7: 1.0, 4.8: {'sepal_length': {5.9: 1.0, 6.0: 2.0, 6.8: 1.0}}, 4.3: 1.0, 5.3: 2.0, 1.4: 0.0, 3.9: 1.0}}\n"
     ]
    }
   ],
   "source": [
    "test= pd.DataFrame(np.hstack((testX, testY.reshape(-1, 1))),index = range(testY.shape[0]),columns=mylabels)\n",
    "test=(np.array(test)).tolist()\n",
    "data=test[0:-1]\n",
    "labels = ['sepal_length','sepal_width','petal_length','petal_width']\n",
    "myTree,myTree1=fit(trainX,trainY)"
   ]
  },
  {
   "cell_type": "markdown",
   "metadata": {},
   "source": [
    "在下方写代码来对测试集进行预测："
   ]
  },
  {
   "cell_type": "code",
   "execution_count": 68,
   "metadata": {
    "collapsed": true
   },
   "outputs": [],
   "source": [
    "def predict(tree,testtvc):\n",
    "    r=[]\n",
    "    count=0\n",
    "    for item  in testtvc:\n",
    "        label=item[-1]\n",
    "        label_predict=classify(tree,item,labels)\n",
    "        r.append(label)\n",
    "        if label==label_predict:\n",
    "            count+=1\n",
    "        accuracy=float(count/len(test))\n",
    "    print('accuracy:',accuracy)\n",
    "    return accuracy,r"
   ]
  },
  {
   "cell_type": "code",
   "execution_count": 69,
   "metadata": {
    "scrolled": true
   },
   "outputs": [
    {
     "name": "stdout",
     "output_type": "stream",
     "text": [
      "剪枝前\n",
      "accuracy: 0.78\n",
      "剪枝后\n",
      "accuracy: 0.78\n"
     ]
    }
   ],
   "source": [
    "print('剪枝前')\n",
    "accuracy,predict_label=predict(myTree,test)\n",
    "print('剪枝后')\n",
    "accuracy,predict_label=predict(myTree1,test)\n"
   ]
  },
  {
   "cell_type": "code",
   "execution_count": 70,
   "metadata": {
    "collapsed": true
   },
   "outputs": [],
   "source": [
    "#image=export_graphviz(dt,out_file='dt.dot')\n",
    "#graphviz.Source(image)"
   ]
  },
  {
   "cell_type": "code",
   "execution_count": 71,
   "metadata": {
    "collapsed": true
   },
   "outputs": [],
   "source": [
    "def softmax(data):\n",
    "    z_exp=[math.exp(dt)for dt in data  ]\n",
    "    sum_z_exp=sum(z_exp)\n",
    "    result=[round(i/sum_z_exp,3)for i in z_exp]\n",
    "    return result"
   ]
  },
  {
   "cell_type": "code",
   "execution_count": 72,
   "metadata": {
    "collapsed": true
   },
   "outputs": [],
   "source": [
    "def cross_Entropy(truth,predict):\n",
    "    t = [[row[i] for row in truth] for i in range(len(truth[0]))]\n",
    "    p=softmax(t[-1])#真实值的分布\n",
    "    q=softmax(predict)#预测值的分布\n",
    "    loss=0.0\n",
    "    for i in range(len(p)):\n",
    "        loss-=(p[i]*math.log(q[i])+(1-p[i])*math.log(1-q[i]))/len(p)\n",
    "    return loss\n",
    " \n",
    "    "
   ]
  },
  {
   "cell_type": "code",
   "execution_count": 73,
   "metadata": {},
   "outputs": [
    {
     "data": {
      "text/plain": [
       "0.09265699161899456"
      ]
     },
     "execution_count": 73,
     "metadata": {},
     "output_type": "execute_result"
    }
   ],
   "source": [
    "#交叉熵\n",
    "cross_Entropy(test,predict_label)"
   ]
  },
  {
   "cell_type": "code",
   "execution_count": 74,
   "metadata": {
    "collapsed": true
   },
   "outputs": [],
   "source": [
    "#from sklearn.tree import export_graphviz\n",
    "#labels = ['sepal_length','sepal_width','petal_length','petal_width']\n",
    "#export_graphviz(myTree,out_file='myTree.dot', feature_names = labels, rounded = True, precision = 1)\n"
   ]
  },
  {
   "cell_type": "markdown",
   "metadata": {},
   "source": [
    "### Visualizing the tree\n",
    "* http://www.webgraphviz.com/\n",
    "\n",
    "* Criteria - Entropy\n",
    "<img src=\"https://github.com/awantik/machine-learning-slides/blob/master/dt6.PNG?raw=true\">"
   ]
  },
  {
   "cell_type": "markdown",
   "metadata": {},
   "source": [
    "#### Feature Importances\n",
    "* Important features will be higher up the tree\n",
    "* We can use this techniques to identify important features"
   ]
  },
  {
   "cell_type": "code",
   "execution_count": null,
   "metadata": {
    "collapsed": true
   },
   "outputs": [],
   "source": []
  },
  {
   "cell_type": "markdown",
   "metadata": {},
   "source": [
    "#### Visualizing Decision Decision Boundry"
   ]
  },
  {
   "cell_type": "code",
   "execution_count": 75,
   "metadata": {
    "collapsed": true
   },
   "outputs": [],
   "source": [
    "from sklearn.datasets import make_blobs"
   ]
  },
  {
   "cell_type": "code",
   "execution_count": 76,
   "metadata": {},
   "outputs": [
    {
     "data": {
      "text/plain": [
       "'\\nX=数据集\\nY=标签\\n'"
      ]
     },
     "execution_count": 76,
     "metadata": {},
     "output_type": "execute_result"
    }
   ],
   "source": [
    "X,Y = make_blobs(n_features=2, n_samples=1000, cluster_std=.8, centers=4, random_state=6)\n",
    "'''\n",
    "X=数据集\n",
    "Y=标签\n",
    "'''"
   ]
  },
  {
   "cell_type": "code",
   "execution_count": 77,
   "metadata": {},
   "outputs": [
    {
     "data": {
      "text/plain": [
       "\"\\nx，y：表示的是大小为(n,)的数组，也就是我们即将绘制散点图的数据点\\ns:是一个实数或者是一个数组大小为(n,)，这个是一个可选的参数。\\nc:表示的是颜色，也是一个可选项。默认是蓝色'b',表示的是标记的颜色，或者可以是一个表示颜色的字符，或者是一个长度为n的表示颜色的序列等等，\\n感觉还没用到过现在不解释了。但是c不可以是一个单独的RGB数字，也不可以是一个RGBA的序列。可以是他们的2维数组（只有一行）。\\ncmap:Colormap实体或者是一个colormap的名字，cmap仅仅当c是一个浮点数数组的时候才使用。如果没有申明就是image.cmap\\n\\n\""
      ]
     },
     "execution_count": 77,
     "metadata": {},
     "output_type": "execute_result"
    },
    {
     "data": {
      "image/png": "[encoded data removed]",
      "text/plain": [
       "<matplotlib.figure.Figure at 0x247802e1ba8>"
      ]
     },
     "metadata": {},
     "output_type": "display_data"
    }
   ],
   "source": [
    "plt.scatter(X[:,0],X[:,1],c=Y,s=5, cmap='viridis')\n",
    "'''\n",
    "x，y：表示的是大小为(n,)的数组，也就是我们即将绘制散点图的数据点\n",
    "s:是一个实数或者是一个数组大小为(n,)，这个是一个可选的参数。\n",
    "c:表示的是颜色，也是一个可选项。默认是蓝色'b',表示的是标记的颜色，或者可以是一个表示颜色的字符，或者是一个长度为n的表示颜色的序列等等，\n",
    "感觉还没用到过现在不解释了。但是c不可以是一个单独的RGB数字，也不可以是一个RGBA的序列。可以是他们的2维数组（只有一行）。\n",
    "cmap:Colormap实体或者是一个colormap的名字，cmap仅仅当c是一个浮点数数组的时候才使用。如果没有申明就是image.cmap\n",
    "\n",
    "'''"
   ]
  },
  {
   "cell_type": "markdown",
   "metadata": {},
   "source": [
    "利用基尼系数的决策树实现："
   ]
  },
  {
   "cell_type": "code",
   "execution_count": 98,
   "metadata": {
    "collapsed": true
   },
   "outputs": [],
   "source": [
    "# DecisionTreeClassifier gini\n",
    "import operator \n",
    "import math\n",
    "from math import pow \n",
    "from collections import Counter\n",
    "from math import log\n",
    "\n",
    "\n",
    "\n",
    "def gini(dataSet): \n",
    "    total_sample=len(dataSet) \n",
    "    if total_sample==0: \n",
    "        return 0 \n",
    "    label_counts=label_unique_cnt(dataSet) \n",
    "    gini=0 \n",
    "    for label in label_counts: \n",
    "        gini=gini+pow(label_counts[label],2) \n",
    "    gini=1-float(gini)/pow(total_sample,2) \n",
    "    return gini\n",
    "\n",
    "def label_unique_cnt(dataSet): \n",
    "    label_unique_cnt={} \n",
    "    for x in dataSet: \n",
    "        label=x[len(x)-1] \n",
    "        if label not in label_unique_cnt: \n",
    "            label_unique_cnt[label]=0 \n",
    "        label_unique_cnt[label]+=1 \n",
    "    return label_unique_cnt\n",
    "\n",
    "\n",
    "\n",
    "def getBestFeature(dataSet): \n",
    "    label_num=len(dataSet[0])-1 \n",
    "    bestGini=0 \n",
    "    currentgini=gini(dataSet) \n",
    "    for index in range(0,label_num): \n",
    "        newgini=0 \n",
    "        sample_label_num=[example[index] for example in dataSet]   #example[index]取每一列的数值\n",
    "        valueset=set(sample_label_num) \n",
    "        for value in valueset: \n",
    "            subdata=split_tree(dataSet,index,value) \n",
    "            newgini=newgini+len(subdata)*gini(subdata)/len(dataSet) \n",
    "        gaingini=currentgini-newgini \n",
    "        if gaingini>bestGini: \n",
    "            bestGini=gaingini \n",
    "            bestFeatureIndex=index \n",
    "    return bestFeatureIndex\n",
    "\n",
    "def majorcnt(classlist): \n",
    "    classValue=set(classlist) #无序不重复元素集 0,1,2,3\n",
    "    bestValueNum=0 \n",
    "    bestClassValue=None \n",
    "    for value in classValue: \n",
    "        valueNum=classlist.count(value) \n",
    "        if valueNum>=bestValueNum: \n",
    "            bestValueNum=valueNum \n",
    "            bestClassValue=value \n",
    "    #print(bestClassValue) \n",
    "    return bestClassValue\n",
    "\n",
    "def split_tree(dataSet,axis,value): #dataSet数据,axis最佳特征,value特征属性值num标签属性值\n",
    "    subdata=[]  \n",
    "    for sample in dataSet: \n",
    "        if sample[axis]==value: \n",
    "            subdata1=sample[:axis] \n",
    "            subdata1.extend(sample[axis+1:]) \n",
    "            subdata.append(subdata1) \n",
    "        return subdata\n",
    "    \n",
    "def split(dataSet,i): #dataSet数据,,i标签属性值\n",
    "    subdata=[] \n",
    "    for sample in dataSet:\n",
    "        if sample[-1]==i:\n",
    "            subdata.append(sample)\n",
    "    return subdata\n",
    "\n",
    "def split_tree1(dataSet,axis,con,sub,bestFeatureLabel): #dataSet数据,axis最佳特征,con数据集的最佳特征的最大最小值,sub对应的标签划分的数据集\n",
    "    subdata=[] \n",
    "    aa=[]\n",
    "    if bestFeatureLabel==\"Y\":\n",
    "        List=[example[1] for example in sub]\n",
    "        b=[x[1] for x in dataSet]\n",
    "    else:\n",
    "        List=[example[0] for example in sub]\n",
    "        b=[x[0] for x in dataSet]\n",
    "   # print(List[con[0]],List[con[1]])\n",
    "    #print(\"b\",len(b))\n",
    "    for i in range(len(b)):\n",
    "        #print(b[i])\n",
    "        if float(b[i])>= List[con[0]] and float(b[i])<=List[con[1]]: \n",
    "            subdata.append(dataSet[i])\n",
    "    aa.append(List[con[0]])\n",
    "    aa.append(List[con[1]])\n",
    "\n",
    "    return subdata,aa\n",
    "\n",
    "def find(sub,bestFeatureLabel):\n",
    "    limit=[]\n",
    "   # print(bestFeatureLabel)\n",
    "    if bestFeatureLabel==\"Y\":\n",
    "        List=[example[1] for example in sub]\n",
    "        #print(List)\n",
    "        limit.append(List.index(min(List)))\n",
    "        limit.append(List.index(max(List)))\n",
    "        #print(\"&&&&&&&&&\")\n",
    "        #print(limit[0],limit[1])\n",
    "    else:\n",
    "        List=[example[0] for example in sub]\n",
    "        #print(List)\n",
    "        limit.append(List.index(min(List)))\n",
    "        limit.append(List.index(max(List)))\n",
    "        #print(\"%%%%%%%%%%\")\n",
    "        #print(limit[0],limit[1])\n",
    "    return limit\n",
    "    \n",
    "global rangee\n",
    "rangee=[]\n",
    "global myTree\n",
    "myTree={}\n",
    "def createTree1(dataSet,labels):\n",
    "    classList=[example[-1] for example in dataSet]    #取分类标签\n",
    "    #print(classList.count(classList[0]),len(classList))\n",
    "    if classList.count(classList[0])==len(classList):    #如果类别完全相同则停止继续划分\n",
    "        return classList[0]\n",
    "        #return dataSet\n",
    "    if len(dataSet[0])==1:        #遍历完所有特征时返回出现次数最多的类标签\n",
    "        return majorcnt(classList)\n",
    "    bestFeature=getBestFeature(dataSet)    #选择最优特征\n",
    "    #print(labels)\n",
    "    bestFeatureLabel=labels[bestFeature]    #最优特征的标签\n",
    "    myTree={bestFeatureLabel:{}}    #根据最优特征的标签生成树\n",
    "    del(labels[bestFeature])         #删除已经使用特征标签\n",
    "    #bestFeatureValue=[sample[bestFeature]for sample in dataSet]    #得到训练集中所有最优特征的属性值\n",
    "    #bestFeatureValueSet=set(bestFeatureValue)         #去掉重复的属性值\n",
    "   \n",
    "    #for value in bestFeatureValue:           #遍历特征，创建决策树\n",
    "    num=set(classList)\n",
    "    for i in range(len(num)):\n",
    "        sub=split(dataSet,i) \n",
    "        if sub!=[]:\n",
    "            con=find(sub,bestFeatureLabel)\n",
    "            data,b=split_tree1(dataSet,bestFeature,con,sub,bestFeatureLabel)\n",
    "            #print(b)\n",
    "            rangee.append(b)\n",
    "            subLabels=labels[:]\n",
    "            myTree[bestFeatureLabel][i]=createTree1(data,subLabels)\n",
    "    return myTree,rangee\n",
    "    #return myTree"
   ]
  },
  {
   "cell_type": "markdown",
   "metadata": {},
   "source": [
    "进行训练"
   ]
  },
  {
   "cell_type": "code",
   "execution_count": 99,
   "metadata": {},
   "outputs": [
    {
     "name": "stdout",
     "output_type": "stream",
     "text": [
      "[[4.905014502404979, 10.003439244825916], [-5.628064933836418, -1.6936435745245628], [-11.397907772151008, -7.541507019787613], [3.9215529222165113, 8.22139620890287], [-4.719539564139607, -1.7357956146789657], [-11.397907772151008, -7.541507019787613], [-9.768545002160257, -6.069803123703422], [-1.2878311772231061, 2.8061311503067463]]\n"
     ]
    },
    {
     "data": {
      "text/plain": [
       "'\\ndef fit(trainX,trainY):\\n    dataSet, labels = createDataSet()\\n    myTree= createTree1(dataSet, labels)\\n    return  myTree\\n\\nmyTree=fit(X,Y)\\n\\nprint(myTree)\\n'"
      ]
     },
     "execution_count": 99,
     "metadata": {},
     "output_type": "execute_result"
    }
   ],
   "source": [
    "import pandas as pd\n",
    "import numpy as np\n",
    "from sklearn.cross_validation import train_test_split\n",
    "from sklearn.model_selection import train_test_split\n",
    "trainX,testX,trainY,testY = train_test_split(X, Y)\n",
    "\n",
    "\n",
    "def createDataSet():\n",
    "        label=['X','Y','R']        #特征标签\n",
    "        train=pd.DataFrame(np.hstack((trainX,trainY.reshape(-1,1))),index=range(trainY.shape[0]),columns=label)\n",
    "        train=(np.array(train)).tolist()\n",
    "        dataSet = train\n",
    "        labels=['X','Y']\n",
    "        return dataSet, labels \n",
    "   \n",
    "    \n",
    "def fit(trainX,trainY):\n",
    "    dataSet, labels = createDataSet()\n",
    "    myTree,rangee = createTree1(dataSet, labels)\n",
    "    return  myTree,rangee\n",
    "\n",
    "myTree,rangee=fit(X,Y)\n",
    "\n",
    "#print(myTree)\n",
    "print(rangee)\n",
    "'''\n",
    "def fit(trainX,trainY):\n",
    "    dataSet, labels = createDataSet()\n",
    "    myTree= createTree1(dataSet, labels)\n",
    "    return  myTree\n",
    "\n",
    "myTree=fit(X,Y)\n",
    "\n",
    "print(myTree)\n",
    "'''"
   ]
  },
  {
   "cell_type": "code",
   "execution_count": 100,
   "metadata": {
    "collapsed": true
   },
   "outputs": [],
   "source": [
    "plot_step = 0.2\n",
    "x_min, x_max = X[:, 0].min() - 1, X[:, 0].max() + 1\n",
    "y_min, y_max = X[:, 1].min() - 1, X[:, 1].max() + 1\n",
    "xx, yy = np.meshgrid(np.arange(x_min, x_max, plot_step),\n",
    "                         np.arange(y_min, y_max, plot_step))"
   ]
  },
  {
   "cell_type": "markdown",
   "metadata": {},
   "source": [
    "### Calculation Outcome\n",
    "\n",
    "你需要完成下面代码块中预测值的计算："
   ]
  },
  {
   "cell_type": "code",
   "execution_count": 103,
   "metadata": {},
   "outputs": [
    {
     "name": "stdout",
     "output_type": "stream",
     "text": [
      "[3, None, 2, 1, 0, 1, 1, 0, 1, 2, 1, 2, 0, 3, 2, 2, 1, 3, 0, 3, 2, 2, 3, 2, 2, 3, 2, 2, 2, 2, 3, 2, 1, 1, 0, 3, 3, 0, 0, 1, 1, 0, 3, 3, 1, 0, 1, 1, 2, 2, 2, 3, 3, 1, 1, 0, 1, 1, None, 2, 0, 1, 3, 0, 2, 3, 1, 0, 1, 1, 0, 1, 1, 0, 1, 0, 1, 1, 1, 3, 0, 0, 3, 3, 1, 2, 2, 2, 3, 2, 0, 1, 1, 3, 2, 1, 2, 1, 1, 1, 2, 0, 2, 3, 1, 1, 1, 0, 2, 2, 0, 2, 0, 2, 0, 0, 1, 3, None, 3, 1, 0, 3, 2, 0, 0, 1, 3, 3, 0, 1, 0, 3, 1, 1, 3, 1, 0, 3, 1, 0, 1, 2, 1, 2, 3, 3, 1, 1, 2, 3, 1, None, 3, 2, 1, 2, 3, 3, 3, 0, 0, 2, 3, 1, 2, 3, 0, 3, 2, 1, 2, 1, 3, 2, 0, 0, 3, 3, 0, 0, 1, 1, 0, 3, 1, 3, 3, 2, 2, 2, 3, 1, 1, 2, 2, 1, 1, 2, 1, 3, 1, 3, 2, 3, 2, 0, 0, 3, 3, 0, 0, 2, 3, 3, 1, 2, 2, 1, 2, 2, 3, 0, 0, 0, 0, 1, None, 0, 3, 3, 1, 0, 2, 3, 0, 3, 0, 3, 3, 0, 0, 1, 3, 0, 2, 1, 1, 2, 2]\n"
     ]
    }
   ],
   "source": [
    "def makeClassDecision(tree,labels,sample,rangee): \n",
    "    firstStr = next(iter(tree))                                                        #获取决策树结点\n",
    "    classLabel=[]\n",
    "   # secondDict = tree[firstStr]                                                        #下一个字典\n",
    "    featIndex = labels.index(firstStr)\n",
    "    #print(sample[featIndex+1])\n",
    "    if(sample[featIndex]<=rangee[0][1]) and (sample[featIndex]>=rangee[0][0]):\n",
    "        if(sample[featIndex+1]<=rangee[1][1]) and (sample[featIndex+1]>=rangee[1][0]):\n",
    "            classLabel=0\n",
    "            #print(sample,classLabel)\n",
    "            return classLabel \n",
    "        elif(sample[featIndex+1]<=rangee[2][1]) and (sample[featIndex+1]>=rangee[2][0]): \n",
    "                classLabel=1\n",
    "               # print(sample,classLabel)\n",
    "                return classLabel \n",
    "    if(sample[featIndex]<=rangee[3][1]) and (sample[featIndex]>=rangee[3][0]):\n",
    "        if(sample[featIndex+1]<=rangee[4][1]) and (sample[featIndex+1]>=rangee[4][0]):\n",
    "                classLabel=0\n",
    "                #print(sample,classLabel)\n",
    "                return classLabel \n",
    "        elif(sample[featIndex+1]<=rangee[5][1]) and (sample[featIndex+1]>=rangee[5][0]): \n",
    "                classLabel=1\n",
    "                #print(sample,classLabel)\n",
    "                return classLabel \n",
    "    elif(sample[featIndex]<=rangee[6][1]) and (sample[featIndex]>=rangee[6][0]): \n",
    "            classLabel=2\n",
    "           #print(sample,classLabel)\n",
    "            return classLabel\n",
    "    elif(sample[featIndex]>=rangee[7][0]) and (sample[featIndex]<=rangee[7][1]): \n",
    "            classLabel=3\n",
    "            #print(sample,classLabel)\n",
    "            return classLabel \n",
    "\n",
    "        \n",
    "def predict(testX,testY):\n",
    "    dataSet, labels = createDataSet()\n",
    "    #print(labels)\n",
    "    myTree,rangee = createTree1(dataSet, labels)\n",
    "    sample= testX\n",
    "    t=[]\n",
    "    for a in range(len(testX)):\n",
    "        labels= ['X','Y']\n",
    "        sample=testX[a]\n",
    "        #print(sample)\n",
    "        x=makeClassDecision(myTree,labels,sample,rangee)\n",
    "        t.append(x)\n",
    "    \n",
    "    return  t\n",
    "\n",
    "outcome=predict(testX,testY)\n",
    "print(outcome)"
   ]
  },
  {
   "cell_type": "code",
   "execution_count": 104,
   "metadata": {},
   "outputs": [
    {
     "data": {
      "text/plain": [
       "(86, 109)"
      ]
     },
     "execution_count": 104,
     "metadata": {},
     "output_type": "execute_result"
    }
   ],
   "source": [
    "xx.shape"
   ]
  },
  {
   "cell_type": "code",
   "execution_count": 105,
   "metadata": {},
   "outputs": [
    {
     "ename": "ValueError",
     "evalue": "Invalid RGBA argument: 3",
     "output_type": "error",
     "traceback": [
      "\u001b[1;31m---------------------------------------------------------------------------\u001b[0m",
      "\u001b[1;31mKeyError\u001b[0m                                  Traceback (most recent call last)",
      "\u001b[1;32mE:\\APP\\Anacoda3\\lib\\site-packages\\matplotlib\\colors.py\u001b[0m in \u001b[0;36mto_rgba\u001b[1;34m(c, alpha)\u001b[0m\n\u001b[0;32m    140\u001b[0m     \u001b[1;32mtry\u001b[0m\u001b[1;33m:\u001b[0m\u001b[1;33m\u001b[0m\u001b[0m\n\u001b[1;32m--> 141\u001b[1;33m         \u001b[0mrgba\u001b[0m \u001b[1;33m=\u001b[0m \u001b[0m_colors_full_map\u001b[0m\u001b[1;33m.\u001b[0m\u001b[0mcache\u001b[0m\u001b[1;33m[\u001b[0m\u001b[0mc\u001b[0m\u001b[1;33m,\u001b[0m \u001b[0malpha\u001b[0m\u001b[1;33m]\u001b[0m\u001b[1;33m\u001b[0m\u001b[0m\n\u001b[0m\u001b[0;32m    142\u001b[0m     \u001b[1;32mexcept\u001b[0m \u001b[1;33m(\u001b[0m\u001b[0mKeyError\u001b[0m\u001b[1;33m,\u001b[0m \u001b[0mTypeError\u001b[0m\u001b[1;33m)\u001b[0m\u001b[1;33m:\u001b[0m  \u001b[1;31m# Not in cache, or unhashable.\u001b[0m\u001b[1;33m\u001b[0m\u001b[0m\n",
      "\u001b[1;31mKeyError\u001b[0m: (3, None)",
      "\nDuring handling of the above exception, another exception occurred:\n",
      "\u001b[1;31mValueError\u001b[0m                                Traceback (most recent call last)",
      "\u001b[1;32m<ipython-input-105-8bf59baa3e7e>\u001b[0m in \u001b[0;36m<module>\u001b[1;34m()\u001b[0m\n\u001b[0;32m      2\u001b[0m \u001b[0mplt\u001b[0m\u001b[1;33m.\u001b[0m\u001b[0mscatter\u001b[0m\u001b[1;33m(\u001b[0m\u001b[0mX\u001b[0m\u001b[1;33m[\u001b[0m\u001b[1;33m:\u001b[0m\u001b[1;33m,\u001b[0m\u001b[1;36m0\u001b[0m\u001b[1;33m]\u001b[0m\u001b[1;33m,\u001b[0m\u001b[0mX\u001b[0m\u001b[1;33m[\u001b[0m\u001b[1;33m:\u001b[0m\u001b[1;33m,\u001b[0m\u001b[1;36m1\u001b[0m\u001b[1;33m]\u001b[0m\u001b[1;33m,\u001b[0m\u001b[0mc\u001b[0m\u001b[1;33m=\u001b[0m\u001b[0mY\u001b[0m\u001b[1;33m,\u001b[0m\u001b[0ms\u001b[0m\u001b[1;33m=\u001b[0m\u001b[1;36m5\u001b[0m\u001b[1;33m,\u001b[0m\u001b[0mcmap\u001b[0m\u001b[1;33m=\u001b[0m\u001b[1;34m'viridis'\u001b[0m\u001b[1;33m)\u001b[0m\u001b[1;33m\u001b[0m\u001b[0m\n\u001b[0;32m      3\u001b[0m \u001b[1;31m#plt.scatter(xx.ravel(),yy.ravel(),c=outcome,s=1,alpha=1, cmap='viridis')\u001b[0m\u001b[1;33m\u001b[0m\u001b[1;33m\u001b[0m\u001b[0m\n\u001b[1;32m----> 4\u001b[1;33m \u001b[0mplt\u001b[0m\u001b[1;33m.\u001b[0m\u001b[0mscatter\u001b[0m\u001b[1;33m(\u001b[0m\u001b[0mxx\u001b[0m\u001b[1;33m.\u001b[0m\u001b[0mravel\u001b[0m\u001b[1;33m(\u001b[0m\u001b[1;33m)\u001b[0m\u001b[1;33m,\u001b[0m\u001b[0myy\u001b[0m\u001b[1;33m.\u001b[0m\u001b[0mravel\u001b[0m\u001b[1;33m(\u001b[0m\u001b[1;33m)\u001b[0m\u001b[1;33m,\u001b[0m\u001b[0mc\u001b[0m\u001b[1;33m=\u001b[0m\u001b[0moutcome\u001b[0m\u001b[1;33m,\u001b[0m\u001b[0ms\u001b[0m\u001b[1;33m=\u001b[0m\u001b[1;36m5\u001b[0m\u001b[1;33m,\u001b[0m\u001b[0mcmap\u001b[0m\u001b[1;33m=\u001b[0m\u001b[1;34m'viridis'\u001b[0m\u001b[1;33m)\u001b[0m\u001b[1;33m\u001b[0m\u001b[0m\n\u001b[0m\u001b[0;32m      5\u001b[0m \u001b[0mplt\u001b[0m\u001b[1;33m.\u001b[0m\u001b[0mshow\u001b[0m\u001b[1;33m(\u001b[0m\u001b[1;33m)\u001b[0m\u001b[1;33m\u001b[0m\u001b[0m\n",
      "\u001b[1;32mE:\\APP\\Anacoda3\\lib\\site-packages\\matplotlib\\pyplot.py\u001b[0m in \u001b[0;36mscatter\u001b[1;34m(x, y, s, c, marker, cmap, norm, vmin, vmax, alpha, linewidths, verts, edgecolors, hold, data, **kwargs)\u001b[0m\n\u001b[0;32m   3432\u001b[0m                          \u001b[0mvmin\u001b[0m\u001b[1;33m=\u001b[0m\u001b[0mvmin\u001b[0m\u001b[1;33m,\u001b[0m \u001b[0mvmax\u001b[0m\u001b[1;33m=\u001b[0m\u001b[0mvmax\u001b[0m\u001b[1;33m,\u001b[0m \u001b[0malpha\u001b[0m\u001b[1;33m=\u001b[0m\u001b[0malpha\u001b[0m\u001b[1;33m,\u001b[0m\u001b[1;33m\u001b[0m\u001b[0m\n\u001b[0;32m   3433\u001b[0m                          \u001b[0mlinewidths\u001b[0m\u001b[1;33m=\u001b[0m\u001b[0mlinewidths\u001b[0m\u001b[1;33m,\u001b[0m \u001b[0mverts\u001b[0m\u001b[1;33m=\u001b[0m\u001b[0mverts\u001b[0m\u001b[1;33m,\u001b[0m\u001b[1;33m\u001b[0m\u001b[0m\n\u001b[1;32m-> 3434\u001b[1;33m                          edgecolors=edgecolors, data=data, **kwargs)\n\u001b[0m\u001b[0;32m   3435\u001b[0m     \u001b[1;32mfinally\u001b[0m\u001b[1;33m:\u001b[0m\u001b[1;33m\u001b[0m\u001b[0m\n\u001b[0;32m   3436\u001b[0m         \u001b[0max\u001b[0m\u001b[1;33m.\u001b[0m\u001b[0m_hold\u001b[0m \u001b[1;33m=\u001b[0m \u001b[0mwashold\u001b[0m\u001b[1;33m\u001b[0m\u001b[0m\n",
      "\u001b[1;32mE:\\APP\\Anacoda3\\lib\\site-packages\\matplotlib\\__init__.py\u001b[0m in \u001b[0;36minner\u001b[1;34m(ax, *args, **kwargs)\u001b[0m\n\u001b[0;32m   1896\u001b[0m                     warnings.warn(msg % (label_namer, func.__name__),\n\u001b[0;32m   1897\u001b[0m                                   RuntimeWarning, stacklevel=2)\n\u001b[1;32m-> 1898\u001b[1;33m             \u001b[1;32mreturn\u001b[0m \u001b[0mfunc\u001b[0m\u001b[1;33m(\u001b[0m\u001b[0max\u001b[0m\u001b[1;33m,\u001b[0m \u001b[1;33m*\u001b[0m\u001b[0margs\u001b[0m\u001b[1;33m,\u001b[0m \u001b[1;33m**\u001b[0m\u001b[0mkwargs\u001b[0m\u001b[1;33m)\u001b[0m\u001b[1;33m\u001b[0m\u001b[0m\n\u001b[0m\u001b[0;32m   1899\u001b[0m         \u001b[0mpre_doc\u001b[0m \u001b[1;33m=\u001b[0m \u001b[0minner\u001b[0m\u001b[1;33m.\u001b[0m\u001b[0m__doc__\u001b[0m\u001b[1;33m\u001b[0m\u001b[0m\n\u001b[0;32m   1900\u001b[0m         \u001b[1;32mif\u001b[0m \u001b[0mpre_doc\u001b[0m \u001b[1;32mis\u001b[0m \u001b[1;32mNone\u001b[0m\u001b[1;33m:\u001b[0m\u001b[1;33m\u001b[0m\u001b[0m\n",
      "\u001b[1;32mE:\\APP\\Anacoda3\\lib\\site-packages\\matplotlib\\axes\\_axes.py\u001b[0m in \u001b[0;36mscatter\u001b[1;34m(self, x, y, s, c, marker, cmap, norm, vmin, vmax, alpha, linewidths, verts, edgecolors, **kwargs)\u001b[0m\n\u001b[0;32m   4032\u001b[0m                 \u001b[0moffsets\u001b[0m\u001b[1;33m=\u001b[0m\u001b[0moffsets\u001b[0m\u001b[1;33m,\u001b[0m\u001b[1;33m\u001b[0m\u001b[0m\n\u001b[0;32m   4033\u001b[0m                 \u001b[0mtransOffset\u001b[0m\u001b[1;33m=\u001b[0m\u001b[0mkwargs\u001b[0m\u001b[1;33m.\u001b[0m\u001b[0mpop\u001b[0m\u001b[1;33m(\u001b[0m\u001b[1;34m'transform'\u001b[0m\u001b[1;33m,\u001b[0m \u001b[0mself\u001b[0m\u001b[1;33m.\u001b[0m\u001b[0mtransData\u001b[0m\u001b[1;33m)\u001b[0m\u001b[1;33m,\u001b[0m\u001b[1;33m\u001b[0m\u001b[0m\n\u001b[1;32m-> 4034\u001b[1;33m                 \u001b[0malpha\u001b[0m\u001b[1;33m=\u001b[0m\u001b[0malpha\u001b[0m\u001b[1;33m\u001b[0m\u001b[0m\n\u001b[0m\u001b[0;32m   4035\u001b[0m                 )\n\u001b[0;32m   4036\u001b[0m         \u001b[0mcollection\u001b[0m\u001b[1;33m.\u001b[0m\u001b[0mset_transform\u001b[0m\u001b[1;33m(\u001b[0m\u001b[0mmtransforms\u001b[0m\u001b[1;33m.\u001b[0m\u001b[0mIdentityTransform\u001b[0m\u001b[1;33m(\u001b[0m\u001b[1;33m)\u001b[0m\u001b[1;33m)\u001b[0m\u001b[1;33m\u001b[0m\u001b[0m\n",
      "\u001b[1;32mE:\\APP\\Anacoda3\\lib\\site-packages\\matplotlib\\collections.py\u001b[0m in \u001b[0;36m__init__\u001b[1;34m(self, paths, sizes, **kwargs)\u001b[0m\n\u001b[0;32m    900\u001b[0m         \"\"\"\n\u001b[0;32m    901\u001b[0m \u001b[1;33m\u001b[0m\u001b[0m\n\u001b[1;32m--> 902\u001b[1;33m         \u001b[0mCollection\u001b[0m\u001b[1;33m.\u001b[0m\u001b[0m__init__\u001b[0m\u001b[1;33m(\u001b[0m\u001b[0mself\u001b[0m\u001b[1;33m,\u001b[0m \u001b[1;33m**\u001b[0m\u001b[0mkwargs\u001b[0m\u001b[1;33m)\u001b[0m\u001b[1;33m\u001b[0m\u001b[0m\n\u001b[0m\u001b[0;32m    903\u001b[0m         \u001b[0mself\u001b[0m\u001b[1;33m.\u001b[0m\u001b[0mset_paths\u001b[0m\u001b[1;33m(\u001b[0m\u001b[0mpaths\u001b[0m\u001b[1;33m)\u001b[0m\u001b[1;33m\u001b[0m\u001b[0m\n\u001b[0;32m    904\u001b[0m         \u001b[0mself\u001b[0m\u001b[1;33m.\u001b[0m\u001b[0mset_sizes\u001b[0m\u001b[1;33m(\u001b[0m\u001b[0msizes\u001b[0m\u001b[1;33m)\u001b[0m\u001b[1;33m\u001b[0m\u001b[0m\n",
      "\u001b[1;32mE:\\APP\\Anacoda3\\lib\\site-packages\\matplotlib\\collections.py\u001b[0m in \u001b[0;36m__init__\u001b[1;34m(self, edgecolors, facecolors, linewidths, linestyles, antialiaseds, offsets, transOffset, norm, cmap, pickradius, hatch, urls, offset_position, zorder, **kwargs)\u001b[0m\n\u001b[0;32m    138\u001b[0m \u001b[1;33m\u001b[0m\u001b[0m\n\u001b[0;32m    139\u001b[0m         \u001b[0mself\u001b[0m\u001b[1;33m.\u001b[0m\u001b[0m_hatch_color\u001b[0m \u001b[1;33m=\u001b[0m \u001b[0mmcolors\u001b[0m\u001b[1;33m.\u001b[0m\u001b[0mto_rgba\u001b[0m\u001b[1;33m(\u001b[0m\u001b[0mmpl\u001b[0m\u001b[1;33m.\u001b[0m\u001b[0mrcParams\u001b[0m\u001b[1;33m[\u001b[0m\u001b[1;34m'hatch.color'\u001b[0m\u001b[1;33m]\u001b[0m\u001b[1;33m)\u001b[0m\u001b[1;33m\u001b[0m\u001b[0m\n\u001b[1;32m--> 140\u001b[1;33m         \u001b[0mself\u001b[0m\u001b[1;33m.\u001b[0m\u001b[0mset_facecolor\u001b[0m\u001b[1;33m(\u001b[0m\u001b[0mfacecolors\u001b[0m\u001b[1;33m)\u001b[0m\u001b[1;33m\u001b[0m\u001b[0m\n\u001b[0m\u001b[0;32m    141\u001b[0m         \u001b[0mself\u001b[0m\u001b[1;33m.\u001b[0m\u001b[0mset_edgecolor\u001b[0m\u001b[1;33m(\u001b[0m\u001b[0medgecolors\u001b[0m\u001b[1;33m)\u001b[0m\u001b[1;33m\u001b[0m\u001b[0m\n\u001b[0;32m    142\u001b[0m         \u001b[0mself\u001b[0m\u001b[1;33m.\u001b[0m\u001b[0mset_linewidth\u001b[0m\u001b[1;33m(\u001b[0m\u001b[0mlinewidths\u001b[0m\u001b[1;33m)\u001b[0m\u001b[1;33m\u001b[0m\u001b[0m\n",
      "\u001b[1;32mE:\\APP\\Anacoda3\\lib\\site-packages\\matplotlib\\collections.py\u001b[0m in \u001b[0;36mset_facecolor\u001b[1;34m(self, c)\u001b[0m\n\u001b[0;32m    679\u001b[0m         \"\"\"\n\u001b[0;32m    680\u001b[0m         \u001b[0mself\u001b[0m\u001b[1;33m.\u001b[0m\u001b[0m_original_facecolor\u001b[0m \u001b[1;33m=\u001b[0m \u001b[0mc\u001b[0m\u001b[1;33m\u001b[0m\u001b[0m\n\u001b[1;32m--> 681\u001b[1;33m         \u001b[0mself\u001b[0m\u001b[1;33m.\u001b[0m\u001b[0m_set_facecolor\u001b[0m\u001b[1;33m(\u001b[0m\u001b[0mc\u001b[0m\u001b[1;33m)\u001b[0m\u001b[1;33m\u001b[0m\u001b[0m\n\u001b[0m\u001b[0;32m    682\u001b[0m \u001b[1;33m\u001b[0m\u001b[0m\n\u001b[0;32m    683\u001b[0m     \u001b[1;32mdef\u001b[0m \u001b[0mset_facecolors\u001b[0m\u001b[1;33m(\u001b[0m\u001b[0mself\u001b[0m\u001b[1;33m,\u001b[0m \u001b[0mc\u001b[0m\u001b[1;33m)\u001b[0m\u001b[1;33m:\u001b[0m\u001b[1;33m\u001b[0m\u001b[0m\n",
      "\u001b[1;32mE:\\APP\\Anacoda3\\lib\\site-packages\\matplotlib\\collections.py\u001b[0m in \u001b[0;36m_set_facecolor\u001b[1;34m(self, c)\u001b[0m\n\u001b[0;32m    664\u001b[0m         \u001b[1;32mexcept\u001b[0m \u001b[0mAttributeError\u001b[0m\u001b[1;33m:\u001b[0m\u001b[1;33m\u001b[0m\u001b[0m\n\u001b[0;32m    665\u001b[0m             \u001b[1;32mpass\u001b[0m\u001b[1;33m\u001b[0m\u001b[0m\n\u001b[1;32m--> 666\u001b[1;33m         \u001b[0mself\u001b[0m\u001b[1;33m.\u001b[0m\u001b[0m_facecolors\u001b[0m \u001b[1;33m=\u001b[0m \u001b[0mmcolors\u001b[0m\u001b[1;33m.\u001b[0m\u001b[0mto_rgba_array\u001b[0m\u001b[1;33m(\u001b[0m\u001b[0mc\u001b[0m\u001b[1;33m,\u001b[0m \u001b[0mself\u001b[0m\u001b[1;33m.\u001b[0m\u001b[0m_alpha\u001b[0m\u001b[1;33m)\u001b[0m\u001b[1;33m\u001b[0m\u001b[0m\n\u001b[0m\u001b[0;32m    667\u001b[0m         \u001b[0mself\u001b[0m\u001b[1;33m.\u001b[0m\u001b[0mstale\u001b[0m \u001b[1;33m=\u001b[0m \u001b[1;32mTrue\u001b[0m\u001b[1;33m\u001b[0m\u001b[0m\n\u001b[0;32m    668\u001b[0m \u001b[1;33m\u001b[0m\u001b[0m\n",
      "\u001b[1;32mE:\\APP\\Anacoda3\\lib\\site-packages\\matplotlib\\colors.py\u001b[0m in \u001b[0;36mto_rgba_array\u001b[1;34m(c, alpha)\u001b[0m\n\u001b[0;32m    237\u001b[0m     \u001b[0mresult\u001b[0m \u001b[1;33m=\u001b[0m \u001b[0mnp\u001b[0m\u001b[1;33m.\u001b[0m\u001b[0mempty\u001b[0m\u001b[1;33m(\u001b[0m\u001b[1;33m(\u001b[0m\u001b[0mlen\u001b[0m\u001b[1;33m(\u001b[0m\u001b[0mc\u001b[0m\u001b[1;33m)\u001b[0m\u001b[1;33m,\u001b[0m \u001b[1;36m4\u001b[0m\u001b[1;33m)\u001b[0m\u001b[1;33m,\u001b[0m \u001b[0mfloat\u001b[0m\u001b[1;33m)\u001b[0m\u001b[1;33m\u001b[0m\u001b[0m\n\u001b[0;32m    238\u001b[0m     \u001b[1;32mfor\u001b[0m \u001b[0mi\u001b[0m\u001b[1;33m,\u001b[0m \u001b[0mcc\u001b[0m \u001b[1;32min\u001b[0m \u001b[0menumerate\u001b[0m\u001b[1;33m(\u001b[0m\u001b[0mc\u001b[0m\u001b[1;33m)\u001b[0m\u001b[1;33m:\u001b[0m\u001b[1;33m\u001b[0m\u001b[0m\n\u001b[1;32m--> 239\u001b[1;33m         \u001b[0mresult\u001b[0m\u001b[1;33m[\u001b[0m\u001b[0mi\u001b[0m\u001b[1;33m]\u001b[0m \u001b[1;33m=\u001b[0m \u001b[0mto_rgba\u001b[0m\u001b[1;33m(\u001b[0m\u001b[0mcc\u001b[0m\u001b[1;33m,\u001b[0m \u001b[0malpha\u001b[0m\u001b[1;33m)\u001b[0m\u001b[1;33m\u001b[0m\u001b[0m\n\u001b[0m\u001b[0;32m    240\u001b[0m     \u001b[1;32mreturn\u001b[0m \u001b[0mresult\u001b[0m\u001b[1;33m\u001b[0m\u001b[0m\n\u001b[0;32m    241\u001b[0m \u001b[1;33m\u001b[0m\u001b[0m\n",
      "\u001b[1;32mE:\\APP\\Anacoda3\\lib\\site-packages\\matplotlib\\colors.py\u001b[0m in \u001b[0;36mto_rgba\u001b[1;34m(c, alpha)\u001b[0m\n\u001b[0;32m    141\u001b[0m         \u001b[0mrgba\u001b[0m \u001b[1;33m=\u001b[0m \u001b[0m_colors_full_map\u001b[0m\u001b[1;33m.\u001b[0m\u001b[0mcache\u001b[0m\u001b[1;33m[\u001b[0m\u001b[0mc\u001b[0m\u001b[1;33m,\u001b[0m \u001b[0malpha\u001b[0m\u001b[1;33m]\u001b[0m\u001b[1;33m\u001b[0m\u001b[0m\n\u001b[0;32m    142\u001b[0m     \u001b[1;32mexcept\u001b[0m \u001b[1;33m(\u001b[0m\u001b[0mKeyError\u001b[0m\u001b[1;33m,\u001b[0m \u001b[0mTypeError\u001b[0m\u001b[1;33m)\u001b[0m\u001b[1;33m:\u001b[0m  \u001b[1;31m# Not in cache, or unhashable.\u001b[0m\u001b[1;33m\u001b[0m\u001b[0m\n\u001b[1;32m--> 143\u001b[1;33m         \u001b[0mrgba\u001b[0m \u001b[1;33m=\u001b[0m \u001b[0m_to_rgba_no_colorcycle\u001b[0m\u001b[1;33m(\u001b[0m\u001b[0mc\u001b[0m\u001b[1;33m,\u001b[0m \u001b[0malpha\u001b[0m\u001b[1;33m)\u001b[0m\u001b[1;33m\u001b[0m\u001b[0m\n\u001b[0m\u001b[0;32m    144\u001b[0m         \u001b[1;32mtry\u001b[0m\u001b[1;33m:\u001b[0m\u001b[1;33m\u001b[0m\u001b[0m\n\u001b[0;32m    145\u001b[0m             \u001b[0m_colors_full_map\u001b[0m\u001b[1;33m.\u001b[0m\u001b[0mcache\u001b[0m\u001b[1;33m[\u001b[0m\u001b[0mc\u001b[0m\u001b[1;33m,\u001b[0m \u001b[0malpha\u001b[0m\u001b[1;33m]\u001b[0m \u001b[1;33m=\u001b[0m \u001b[0mrgba\u001b[0m\u001b[1;33m\u001b[0m\u001b[0m\n",
      "\u001b[1;32mE:\\APP\\Anacoda3\\lib\\site-packages\\matplotlib\\colors.py\u001b[0m in \u001b[0;36m_to_rgba_no_colorcycle\u001b[1;34m(c, alpha)\u001b[0m\n\u001b[0;32m    192\u001b[0m         \u001b[1;31m# float)` and `np.array(...).astype(float)` all convert \"0.5\" to 0.5.\u001b[0m\u001b[1;33m\u001b[0m\u001b[1;33m\u001b[0m\u001b[0m\n\u001b[0;32m    193\u001b[0m         \u001b[1;31m# Test dimensionality to reject single floats.\u001b[0m\u001b[1;33m\u001b[0m\u001b[1;33m\u001b[0m\u001b[0m\n\u001b[1;32m--> 194\u001b[1;33m         \u001b[1;32mraise\u001b[0m \u001b[0mValueError\u001b[0m\u001b[1;33m(\u001b[0m\u001b[1;34m\"Invalid RGBA argument: {!r}\"\u001b[0m\u001b[1;33m.\u001b[0m\u001b[0mformat\u001b[0m\u001b[1;33m(\u001b[0m\u001b[0morig_c\u001b[0m\u001b[1;33m)\u001b[0m\u001b[1;33m)\u001b[0m\u001b[1;33m\u001b[0m\u001b[0m\n\u001b[0m\u001b[0;32m    195\u001b[0m     \u001b[1;31m# Return a tuple to prevent the cached value from being modified.\u001b[0m\u001b[1;33m\u001b[0m\u001b[1;33m\u001b[0m\u001b[0m\n\u001b[0;32m    196\u001b[0m     \u001b[0mc\u001b[0m \u001b[1;33m=\u001b[0m \u001b[0mtuple\u001b[0m\u001b[1;33m(\u001b[0m\u001b[0mc\u001b[0m\u001b[1;33m.\u001b[0m\u001b[0mastype\u001b[0m\u001b[1;33m(\u001b[0m\u001b[0mfloat\u001b[0m\u001b[1;33m)\u001b[0m\u001b[1;33m)\u001b[0m\u001b[1;33m\u001b[0m\u001b[0m\n",
      "\u001b[1;31mValueError\u001b[0m: Invalid RGBA argument: 3"
     ]
    },
    {
     "data": {
      "image/png": "[encoded data removed]",
      "text/plain": [
       "<matplotlib.figure.Figure at 0x24780309048>"
      ]
     },
     "metadata": {},
     "output_type": "display_data"
    }
   ],
   "source": [
    "outcome=predict(testX,testY)\n",
    "plt.scatter(X[:,0],X[:,1],c=Y,s=5,cmap='viridis')\n",
    "#plt.scatter(xx.ravel(),yy.ravel(),c=outcome,s=1,alpha=1, cmap='viridis')\n",
    "plt.scatter(xx.ravel(),yy.ravel(),c=outcome,s=5,cmap='viridis')\n",
    "plt.show()"
   ]
  },
  {
   "cell_type": "code",
   "execution_count": 107,
   "metadata": {},
   "outputs": [
    {
     "name": "stdout",
     "output_type": "stream",
     "text": [
      "250 250\n",
      "[3, None, 2, 1, 0, 1, 1, 0, 1, 2, 1, 2, 0, 3, 2, 2, 1, 3, 0, 3, 2, 2, 3, 2, 2, 3, 2, 2, 2, 2, 3, 2, 1, 1, 0, 3, 3, 0, 0, 1, 1, 0, 3, 3, 1, 0, 1, 1, 2, 2, 2, 3, 3, 1, 1, 0, 1, 1, None, 2, 0, 1, 3, 0, 2, 3, 1, 0, 1, 1, 0, 1, 1, 0, 1, 0, 1, 1, 1, 3, 0, 0, 3, 3, 1, 2, 2, 2, 3, 2, 0, 1, 1, 3, 2, 1, 2, 1, 1, 1, 2, 0, 2, 3, 1, 1, 1, 0, 2, 2, 0, 2, 0, 2, 0, 0, 1, 3, None, 3, 1, 0, 3, 2, 0, 0, 1, 3, 3, 0, 1, 0, 3, 1, 1, 3, 1, 0, 3, 1, 0, 1, 2, 1, 2, 3, 3, 1, 1, 2, 3, 1, None, 3, 2, 1, 2, 3, 3, 3, 0, 0, 2, 3, 1, 2, 3, 0, 3, 2, 1, 2, 1, 3, 2, 0, 0, 3, 3, 0, 0, 1, 1, 0, 3, 1, 3, 3, 2, 2, 2, 3, 1, 1, 2, 2, 1, 1, 2, 1, 3, 1, 3, 2, 3, 2, 0, 0, 3, 3, 0, 0, 2, 3, 3, 1, 2, 2, 1, 2, 2, 3, 0, 0, 0, 0, 1, None, 0, 3, 3, 1, 0, 2, 3, 0, 3, 0, 3, 3, 0, 0, 1, 3, 0, 2, 1, 1, 2, 2]\n",
      "0.98\n"
     ]
    }
   ],
   "source": [
    "outcome=predict(testX,testY)\n",
    "print(len(testY),len(outcome))\n",
    "print(outcome)\n",
    "count=0\n",
    "for i in range(len(testY)):\n",
    "    if outcome[i]==testY[i]:\n",
    "        count=count+1\n",
    "correct=count/len(testY)\n",
    "print(correct)"
   ]
  },
  {
   "cell_type": "markdown",
   "metadata": {},
   "source": [
    "![](img/questions-01.png)"
   ]
  }
 ],
 "metadata": {
  "kernelspec": {
   "display_name": "Python 3",
   "language": "python",
   "name": "python3"
  },
  "language_info": {
   "codemirror_mode": {
    "name": "ipython",
    "version": 3
   },
   "file_extension": ".py",
   "mimetype": "text/x-python",
   "name": "python",
   "nbconvert_exporter": "python",
   "pygments_lexer": "ipython3",
   "version": "3.6.2"
  }
 },
 "nbformat": 4,
 "nbformat_minor": 2
}
